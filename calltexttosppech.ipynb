{
 "cells": [
  {
   "cell_type": "code",
   "execution_count": null,
   "id": "c76f68a8",
   "metadata": {},
   "outputs": [],
   "source": [
    "import argparse\n",
    "import json\n",
    "import ntpath\n",
    "import urllib3\n",
    "import requests\n",
    "import time\n",
    "from json import dumps, loads, JSONEncoder, JSONDecoder\n",
    "import pickle\n",
    "def getSubmittedSyntheses(baseAddress,key,timestart=None,timeend=None,skip=None,status=None,top=None):\n",
    "    url = baseAddress+\"voicesynthesis/Paginated?\"#url = url + \"&skip=0\"\n",
    "    if top is not None:\n",
    "        url = url + \"&top=\" + str(top)\n",
    "    else:\n",
    "        url = url + \"&top=100\"\n",
    "    url.replace(\" \", \"%20\")\n",
    "    response=requests.get(url, headers={\"Ocp-Apim-Subscription-Key\":key}, verify=False)\n",
    "    if response.status_code == 200:\n",
    "        syntheses = json.loads(response.text)[\"values\"]\n",
    "        return syntheses\n",
    "    else:\n",
    "        print(\"getSubmittedSyntheses request failed\")\n",
    "        print(\"response.status_code: %d\" % response.status_code)\n",
    "        print(\"response.text: %s\" % response.text)\n",
    "        return None\n",
    "def getSubmittedSynthesis(baseAddress,id,key):\n",
    "    response=requests.get(baseAddress+\"voicesynthesis/\"+id, headers={\"Ocp-Apim-Subscription-Key\":key}, verify=False)\n",
    "    if response.status_code == 200:\n",
    "        synthesis = json.loads(response.text)\n",
    "        return synthesis\n",
    "    else:\n",
    "        print(\"getSubmittedSyntheses with ID request failed\")\n",
    "        print(\"response.status_code: %d\" % response.status_code)\n",
    "        print(\"response.text: %s\" % response.text)\n",
    "        return None\n",
    "def getVoices(baseAddress,key):\n",
    "    response=requests.get(baseAddress+\"voicesynthesis/voices\", headers={\"Ocp-Apim-Subscription-Key\":key}, verify=False)\n",
    "    if response.status_code == 200:\n",
    "        voices = json.loads(response.text)\n",
    "        return voices\n",
    "    else:\n",
    "        print(\"getVoices request failed\")\n",
    "        print(\"response.status_code: %d\" % response.status_code)\n",
    "        print(\"response.text: %s\" % response.text)\n",
    "        return None\n",
    "def deleteSynthesis(baseAddress,key,ids):\n",
    "    for id in ids:\n",
    "        print(\"delete voice synthesis %s \" % id)\n",
    "        response = requests.delete(baseAddress+\"voicesynthesis/\"+id, headers={\"Ocp-Apim-Subscription-Key\":key}, verify=False)\n",
    "        if (response.status_code == 204):\n",
    "            print(\"delete successful\")\n",
    "        else:\n",
    "            print(\"delete failed, response.status_code: %d, response.text: %s \" % (response.status_code, response.text))\n",
    "def submitSynthesis(file,locale,formatoffileformatoffile,voiceId,key):\n",
    "    modelList = voiceId\n",
    "    data={'name': 'simple test', 'description': 'desc...', 'models': json.dumps(modelList), 'locale':locale, 'outputformat':formatoffile}\n",
    "    properties={'ConcatenateResult': 'true'}\n",
    "    data['properties'] = json.dumps(properties)\n",
    "    if file is not None:\n",
    "        scriptfilename=ntpath.basename(file)\n",
    "        files = {'script': (scriptfilename, open(file, 'rb'), 'text/plain')}\n",
    "    response = requests.post(baseAddress+\"voicesynthesis\", data, headers={\"Ocp-Apim-Subscription-Key\":key}, files=files, verify=False)\n",
    "    if response.status_code == 202:\n",
    "        location = response.headers['Location']\n",
    "        id = location.split(\"/\")[-1]\n",
    "        print(\"Submit synthesis request successful , id: %s\" % (id))\n",
    "        return id\n",
    "    else:\n",
    "        print(\"Submit synthesis request failed\")\n",
    "        print(\"response.status_code: %d\" % response.status_code)\n",
    "        print(\"response.text: %s\" % response.text)\n",
    "        return 0\n",
    "    \n",
    "def texttospeech(region,file,locale,formatoffile,voiceId,key,synthesisId)\n",
    "    baseAddress='https://%s.customvoice.api.speech.microsoft.com/api/texttospeech/v3.0-beta1/' % region\n",
    "    \"\"\"\n",
    "    if voices:\n",
    "        voices = getVoices(baseAddress,key)\n",
    "        print(\"There are %d voices available:\" % len(voices))\n",
    "        for voice in voices:\n",
    "            print (\"Name: %s, Description: %s, Id: %s, Locale: %s, Gender: %s, PublicVoice: %s, Created: %s\" % (voice['name'], voice['description'], voice['id'], voice['locale'], voice['gender'], voice['isPublicVoice'], voice['created']))\n",
    "    if voicesynthesis:\n",
    "        synthese = getSubmittedSyntheses(baseAddress,key)\n",
    "        if synthese is not None:\n",
    "            print(\"There are %d synthesis requests:\" % len(synthese))\n",
    "            for synthesis in synthese:\n",
    "                print (\"ID : %s , Name : %s, Status : %s \" % (synthesis['id'], synthesis['name'], synthesis['status']))\n",
    "    \n",
    "    if synthesisId is None:\n",
    "        print (\"-synthesisId is required \")\n",
    "    else:\n",
    "            synthesis = getSubmittedSynthesis(synthesisId)\n",
    "            if synthesis is not None:\n",
    "                print (\"ID : %s , Name : %s, Status : %s \" % (synthesis['id'], synthesis['name'], synthesis['status']))\n",
    "            else:\n",
    "                print (\"Not found voice synthesis %s \" % (args.synthesisId[0]))\n",
    "    \"\"\"\n",
    "    id = submitSynthesis(file,locale,formatoffileformatoffile,voiceId,key)\n",
    "    if (id == 0):\n",
    "        exit(1)\n",
    "\n",
    "    while(1):\n",
    "        print(\"\\r\\nChecking status , id : %s\" % id)\n",
    "        synthesis=getSubmittedSynthesis(baseAddress,id,key)\n",
    "        if synthesis['status'] == \"Succeeded\":\n",
    "            r = requests.get(synthesis['resultsUrl'])\n",
    "            filename=id + \".zip\"\n",
    "            with open(filename, 'wb') as f:  \n",
    "                f.write(r.content)\n",
    "                print(\"Succeeded... Result file downloaded : \" + filename)\n",
    "            break\n",
    "        elif synthesis['status'] == \"Failed\":\n",
    "            print(\"Failed...\")\n",
    "            break\n",
    "        elif synthesis['status'] == \"Running\":\n",
    "            print(\"Running...\")\n",
    "        elif synthesis['status'] == \"NotStarted\":\n",
    "            print(\"NotStarted...\")\n",
    "        time.sleep(10)"
   ]
  },
  {
   "cell_type": "code",
   "execution_count": null,
   "id": "da590e95",
   "metadata": {
    "scrolled": true
   },
   "outputs": [
    {
     "name": "stderr",
     "output_type": "stream",
     "text": [
      "C:\\Users\\deepasaw\\Anaconda3\\lib\\site-packages\\urllib3\\connectionpool.py:1013: InsecureRequestWarning: Unverified HTTPS request is being made to host 'eastus.customvoice.api.speech.microsoft.com'. Adding certificate verification is strongly advised. See: https://urllib3.readthedocs.io/en/latest/advanced-usage.html#ssl-warnings\n",
      "  warnings.warn(\n"
     ]
    },
    {
     "name": "stdout",
     "output_type": "stream",
     "text": [
      "Submit synthesis request failed\n",
      "response.status_code: 400\n",
      "response.text: {\r\n",
      "  \"code\": \"InvalidRequest\",\r\n",
      "  \"message\": \"The voice synthesis definition has the wrong format.\",\r\n",
      "  \"innerError\": {\r\n",
      "    \"code\": \"InvalidPayload\",\r\n",
      "    \"message\": \"The voice synthesis definition has the wrong format.\"\r\n",
      "  }\r\n",
      "}\n",
      "\r\n",
      "Checking status , id : 0\n"
     ]
    },
    {
     "name": "stderr",
     "output_type": "stream",
     "text": [
      "C:\\Users\\deepasaw\\Anaconda3\\lib\\site-packages\\urllib3\\connectionpool.py:1013: InsecureRequestWarning: Unverified HTTPS request is being made to host 'eastus.customvoice.api.speech.microsoft.com'. Adding certificate verification is strongly advised. See: https://urllib3.readthedocs.io/en/latest/advanced-usage.html#ssl-warnings\n",
      "  warnings.warn(\n"
     ]
    },
    {
     "name": "stdout",
     "output_type": "stream",
     "text": [
      "getSubmittedSyntheses with ID request failed\n",
      "response.status_code: 400\n",
      "response.text: {\r\n",
      "  \"errors\": {\r\n",
      "    \"id\": [\r\n",
      "      \"The value '0' is not valid.\"\r\n",
      "    ]\r\n",
      "  },\r\n",
      "  \"type\": \"https://tools.ietf.org/html/rfc7231#section-6.5.1\",\r\n",
      "  \"title\": \"One or more validation errors occurred.\",\r\n",
      "  \"status\": 400,\r\n",
      "  \"extensions\": {\r\n",
      "    \"traceId\": \"00-40e0f5e141fac37067f69493ee920fc4-acb3801f3f168328-00\"\r\n",
      "  }\r\n",
      "}\n",
      "None\n",
      "\r\n",
      "Checking status , id : 0\n"
     ]
    },
    {
     "name": "stderr",
     "output_type": "stream",
     "text": [
      "C:\\Users\\deepasaw\\Anaconda3\\lib\\site-packages\\urllib3\\connectionpool.py:1013: InsecureRequestWarning: Unverified HTTPS request is being made to host 'eastus.customvoice.api.speech.microsoft.com'. Adding certificate verification is strongly advised. See: https://urllib3.readthedocs.io/en/latest/advanced-usage.html#ssl-warnings\n",
      "  warnings.warn(\n"
     ]
    },
    {
     "name": "stdout",
     "output_type": "stream",
     "text": [
      "getSubmittedSyntheses with ID request failed\n",
      "response.status_code: 400\n",
      "response.text: {\r\n",
      "  \"errors\": {\r\n",
      "    \"id\": [\r\n",
      "      \"The value '0' is not valid.\"\r\n",
      "    ]\r\n",
      "  },\r\n",
      "  \"type\": \"https://tools.ietf.org/html/rfc7231#section-6.5.1\",\r\n",
      "  \"title\": \"One or more validation errors occurred.\",\r\n",
      "  \"status\": 400,\r\n",
      "  \"extensions\": {\r\n",
      "    \"traceId\": \"00-7f737130cb64e1482d7e2792eb513ea8-6e6712e4aea0ed0b-00\"\r\n",
      "  }\r\n",
      "}\n",
      "None\n",
      "\r\n",
      "Checking status , id : 0\n"
     ]
    },
    {
     "name": "stderr",
     "output_type": "stream",
     "text": [
      "C:\\Users\\deepasaw\\Anaconda3\\lib\\site-packages\\urllib3\\connectionpool.py:1013: InsecureRequestWarning: Unverified HTTPS request is being made to host 'eastus.customvoice.api.speech.microsoft.com'. Adding certificate verification is strongly advised. See: https://urllib3.readthedocs.io/en/latest/advanced-usage.html#ssl-warnings\n",
      "  warnings.warn(\n"
     ]
    },
    {
     "name": "stdout",
     "output_type": "stream",
     "text": [
      "getSubmittedSyntheses with ID request failed\n",
      "response.status_code: 400\n",
      "response.text: {\r\n",
      "  \"errors\": {\r\n",
      "    \"id\": [\r\n",
      "      \"The value '0' is not valid.\"\r\n",
      "    ]\r\n",
      "  },\r\n",
      "  \"type\": \"https://tools.ietf.org/html/rfc7231#section-6.5.1\",\r\n",
      "  \"title\": \"One or more validation errors occurred.\",\r\n",
      "  \"status\": 400,\r\n",
      "  \"extensions\": {\r\n",
      "    \"traceId\": \"00-3f86c53b7606833a2d96e57df217ace8-f6f03200af07a1d4-00\"\r\n",
      "  }\r\n",
      "}\n",
      "None\n",
      "\r\n",
      "Checking status , id : 0\n"
     ]
    },
    {
     "name": "stderr",
     "output_type": "stream",
     "text": [
      "C:\\Users\\deepasaw\\Anaconda3\\lib\\site-packages\\urllib3\\connectionpool.py:1013: InsecureRequestWarning: Unverified HTTPS request is being made to host 'eastus.customvoice.api.speech.microsoft.com'. Adding certificate verification is strongly advised. See: https://urllib3.readthedocs.io/en/latest/advanced-usage.html#ssl-warnings\n",
      "  warnings.warn(\n"
     ]
    },
    {
     "name": "stdout",
     "output_type": "stream",
     "text": [
      "getSubmittedSyntheses with ID request failed\n",
      "response.status_code: 400\n",
      "response.text: {\r\n",
      "  \"errors\": {\r\n",
      "    \"id\": [\r\n",
      "      \"The value '0' is not valid.\"\r\n",
      "    ]\r\n",
      "  },\r\n",
      "  \"type\": \"https://tools.ietf.org/html/rfc7231#section-6.5.1\",\r\n",
      "  \"title\": \"One or more validation errors occurred.\",\r\n",
      "  \"status\": 400,\r\n",
      "  \"extensions\": {\r\n",
      "    \"traceId\": \"00-c2203e16a8948db3e6d92285dec61b61-3392e6bf334d2f85-00\"\r\n",
      "  }\r\n",
      "}\n",
      "None\n",
      "\r\n",
      "Checking status , id : 0\n"
     ]
    },
    {
     "name": "stderr",
     "output_type": "stream",
     "text": [
      "C:\\Users\\deepasaw\\Anaconda3\\lib\\site-packages\\urllib3\\connectionpool.py:1013: InsecureRequestWarning: Unverified HTTPS request is being made to host 'eastus.customvoice.api.speech.microsoft.com'. Adding certificate verification is strongly advised. See: https://urllib3.readthedocs.io/en/latest/advanced-usage.html#ssl-warnings\n",
      "  warnings.warn(\n"
     ]
    },
    {
     "name": "stdout",
     "output_type": "stream",
     "text": [
      "getSubmittedSyntheses with ID request failed\n",
      "response.status_code: 400\n",
      "response.text: {\r\n",
      "  \"errors\": {\r\n",
      "    \"id\": [\r\n",
      "      \"The value '0' is not valid.\"\r\n",
      "    ]\r\n",
      "  },\r\n",
      "  \"type\": \"https://tools.ietf.org/html/rfc7231#section-6.5.1\",\r\n",
      "  \"title\": \"One or more validation errors occurred.\",\r\n",
      "  \"status\": 400,\r\n",
      "  \"extensions\": {\r\n",
      "    \"traceId\": \"00-2f34fc620ce61df150568b4de523a398-93ec6c73ad740397-00\"\r\n",
      "  }\r\n",
      "}\n",
      "None\n",
      "\r\n",
      "Checking status , id : 0\n"
     ]
    },
    {
     "name": "stderr",
     "output_type": "stream",
     "text": [
      "C:\\Users\\deepasaw\\Anaconda3\\lib\\site-packages\\urllib3\\connectionpool.py:1013: InsecureRequestWarning: Unverified HTTPS request is being made to host 'eastus.customvoice.api.speech.microsoft.com'. Adding certificate verification is strongly advised. See: https://urllib3.readthedocs.io/en/latest/advanced-usage.html#ssl-warnings\n",
      "  warnings.warn(\n"
     ]
    },
    {
     "name": "stdout",
     "output_type": "stream",
     "text": [
      "getSubmittedSyntheses with ID request failed\n",
      "response.status_code: 400\n",
      "response.text: {\r\n",
      "  \"errors\": {\r\n",
      "    \"id\": [\r\n",
      "      \"The value '0' is not valid.\"\r\n",
      "    ]\r\n",
      "  },\r\n",
      "  \"type\": \"https://tools.ietf.org/html/rfc7231#section-6.5.1\",\r\n",
      "  \"title\": \"One or more validation errors occurred.\",\r\n",
      "  \"status\": 400,\r\n",
      "  \"extensions\": {\r\n",
      "    \"traceId\": \"00-f30030105d746e3e94bf09fb4e006520-62ea7e02e4d32fe1-00\"\r\n",
      "  }\r\n",
      "}\n",
      "None\n",
      "\r\n",
      "Checking status , id : 0\n"
     ]
    },
    {
     "name": "stderr",
     "output_type": "stream",
     "text": [
      "C:\\Users\\deepasaw\\Anaconda3\\lib\\site-packages\\urllib3\\connectionpool.py:1013: InsecureRequestWarning: Unverified HTTPS request is being made to host 'eastus.customvoice.api.speech.microsoft.com'. Adding certificate verification is strongly advised. See: https://urllib3.readthedocs.io/en/latest/advanced-usage.html#ssl-warnings\n",
      "  warnings.warn(\n"
     ]
    },
    {
     "name": "stdout",
     "output_type": "stream",
     "text": [
      "getSubmittedSyntheses with ID request failed\n",
      "response.status_code: 400\n",
      "response.text: {\r\n",
      "  \"errors\": {\r\n",
      "    \"id\": [\r\n",
      "      \"The value '0' is not valid.\"\r\n",
      "    ]\r\n",
      "  },\r\n",
      "  \"type\": \"https://tools.ietf.org/html/rfc7231#section-6.5.1\",\r\n",
      "  \"title\": \"One or more validation errors occurred.\",\r\n",
      "  \"status\": 400,\r\n",
      "  \"extensions\": {\r\n",
      "    \"traceId\": \"00-de564e935c1dd83cf35ace0f804dfdc1-722ca8ad310ff196-00\"\r\n",
      "  }\r\n",
      "}\n",
      "None\n",
      "\r\n",
      "Checking status , id : 0\n"
     ]
    },
    {
     "name": "stderr",
     "output_type": "stream",
     "text": [
      "C:\\Users\\deepasaw\\Anaconda3\\lib\\site-packages\\urllib3\\connectionpool.py:1013: InsecureRequestWarning: Unverified HTTPS request is being made to host 'eastus.customvoice.api.speech.microsoft.com'. Adding certificate verification is strongly advised. See: https://urllib3.readthedocs.io/en/latest/advanced-usage.html#ssl-warnings\n",
      "  warnings.warn(\n"
     ]
    },
    {
     "name": "stdout",
     "output_type": "stream",
     "text": [
      "getSubmittedSyntheses with ID request failed\n",
      "response.status_code: 400\n",
      "response.text: {\r\n",
      "  \"errors\": {\r\n",
      "    \"id\": [\r\n",
      "      \"The value '0' is not valid.\"\r\n",
      "    ]\r\n",
      "  },\r\n",
      "  \"type\": \"https://tools.ietf.org/html/rfc7231#section-6.5.1\",\r\n",
      "  \"title\": \"One or more validation errors occurred.\",\r\n",
      "  \"status\": 400,\r\n",
      "  \"extensions\": {\r\n",
      "    \"traceId\": \"00-828ed277d197eb938d489a978726535d-2e579c52d0a6bfb4-00\"\r\n",
      "  }\r\n",
      "}\n",
      "None\n",
      "\r\n",
      "Checking status , id : 0\n"
     ]
    },
    {
     "name": "stderr",
     "output_type": "stream",
     "text": [
      "C:\\Users\\deepasaw\\Anaconda3\\lib\\site-packages\\urllib3\\connectionpool.py:1013: InsecureRequestWarning: Unverified HTTPS request is being made to host 'eastus.customvoice.api.speech.microsoft.com'. Adding certificate verification is strongly advised. See: https://urllib3.readthedocs.io/en/latest/advanced-usage.html#ssl-warnings\n",
      "  warnings.warn(\n"
     ]
    },
    {
     "name": "stdout",
     "output_type": "stream",
     "text": [
      "getSubmittedSyntheses with ID request failed\n",
      "response.status_code: 400\n",
      "response.text: {\r\n",
      "  \"errors\": {\r\n",
      "    \"id\": [\r\n",
      "      \"The value '0' is not valid.\"\r\n",
      "    ]\r\n",
      "  },\r\n",
      "  \"type\": \"https://tools.ietf.org/html/rfc7231#section-6.5.1\",\r\n",
      "  \"title\": \"One or more validation errors occurred.\",\r\n",
      "  \"status\": 400,\r\n",
      "  \"extensions\": {\r\n",
      "    \"traceId\": \"00-efe26259b92867a2b86032e24a2a87b4-74eac1dc8b36c64f-00\"\r\n",
      "  }\r\n",
      "}\n",
      "None\n",
      "\r\n",
      "Checking status , id : 0\n"
     ]
    },
    {
     "name": "stderr",
     "output_type": "stream",
     "text": [
      "C:\\Users\\deepasaw\\Anaconda3\\lib\\site-packages\\urllib3\\connectionpool.py:1013: InsecureRequestWarning: Unverified HTTPS request is being made to host 'eastus.customvoice.api.speech.microsoft.com'. Adding certificate verification is strongly advised. See: https://urllib3.readthedocs.io/en/latest/advanced-usage.html#ssl-warnings\n",
      "  warnings.warn(\n"
     ]
    },
    {
     "name": "stdout",
     "output_type": "stream",
     "text": [
      "getSubmittedSyntheses with ID request failed\n",
      "response.status_code: 400\n",
      "response.text: {\r\n",
      "  \"errors\": {\r\n",
      "    \"id\": [\r\n",
      "      \"The value '0' is not valid.\"\r\n",
      "    ]\r\n",
      "  },\r\n",
      "  \"type\": \"https://tools.ietf.org/html/rfc7231#section-6.5.1\",\r\n",
      "  \"title\": \"One or more validation errors occurred.\",\r\n",
      "  \"status\": 400,\r\n",
      "  \"extensions\": {\r\n",
      "    \"traceId\": \"00-b89b9db780ec10d78a7eb2960938fb10-501eb72d6e49a407-00\"\r\n",
      "  }\r\n",
      "}\n",
      "None\n",
      "\r\n",
      "Checking status , id : 0\n"
     ]
    },
    {
     "name": "stderr",
     "output_type": "stream",
     "text": [
      "C:\\Users\\deepasaw\\Anaconda3\\lib\\site-packages\\urllib3\\connectionpool.py:1013: InsecureRequestWarning: Unverified HTTPS request is being made to host 'eastus.customvoice.api.speech.microsoft.com'. Adding certificate verification is strongly advised. See: https://urllib3.readthedocs.io/en/latest/advanced-usage.html#ssl-warnings\n",
      "  warnings.warn(\n"
     ]
    },
    {
     "name": "stdout",
     "output_type": "stream",
     "text": [
      "getSubmittedSyntheses with ID request failed\n",
      "response.status_code: 400\n",
      "response.text: {\r\n",
      "  \"errors\": {\r\n",
      "    \"id\": [\r\n",
      "      \"The value '0' is not valid.\"\r\n",
      "    ]\r\n",
      "  },\r\n",
      "  \"type\": \"https://tools.ietf.org/html/rfc7231#section-6.5.1\",\r\n",
      "  \"title\": \"One or more validation errors occurred.\",\r\n",
      "  \"status\": 400,\r\n",
      "  \"extensions\": {\r\n",
      "    \"traceId\": \"00-453ac310b6ff603bac25c884ac8096d3-e133dc35b090c829-00\"\r\n",
      "  }\r\n",
      "}\n",
      "None\n",
      "\r\n",
      "Checking status , id : 0\n"
     ]
    },
    {
     "name": "stderr",
     "output_type": "stream",
     "text": [
      "C:\\Users\\deepasaw\\Anaconda3\\lib\\site-packages\\urllib3\\connectionpool.py:1013: InsecureRequestWarning: Unverified HTTPS request is being made to host 'eastus.customvoice.api.speech.microsoft.com'. Adding certificate verification is strongly advised. See: https://urllib3.readthedocs.io/en/latest/advanced-usage.html#ssl-warnings\n",
      "  warnings.warn(\n"
     ]
    },
    {
     "name": "stdout",
     "output_type": "stream",
     "text": [
      "getSubmittedSyntheses with ID request failed\n",
      "response.status_code: 400\n",
      "response.text: {\r\n",
      "  \"errors\": {\r\n",
      "    \"id\": [\r\n",
      "      \"The value '0' is not valid.\"\r\n",
      "    ]\r\n",
      "  },\r\n",
      "  \"type\": \"https://tools.ietf.org/html/rfc7231#section-6.5.1\",\r\n",
      "  \"title\": \"One or more validation errors occurred.\",\r\n",
      "  \"status\": 400,\r\n",
      "  \"extensions\": {\r\n",
      "    \"traceId\": \"00-18a94376271657fe249b065ec4ab6e04-d541b8d4704fc6c6-00\"\r\n",
      "  }\r\n",
      "}\n",
      "None\n",
      "\r\n",
      "Checking status , id : 0\n"
     ]
    },
    {
     "name": "stderr",
     "output_type": "stream",
     "text": [
      "C:\\Users\\deepasaw\\Anaconda3\\lib\\site-packages\\urllib3\\connectionpool.py:1013: InsecureRequestWarning: Unverified HTTPS request is being made to host 'eastus.customvoice.api.speech.microsoft.com'. Adding certificate verification is strongly advised. See: https://urllib3.readthedocs.io/en/latest/advanced-usage.html#ssl-warnings\n",
      "  warnings.warn(\n"
     ]
    },
    {
     "name": "stdout",
     "output_type": "stream",
     "text": [
      "getSubmittedSyntheses with ID request failed\n",
      "response.status_code: 400\n",
      "response.text: {\r\n",
      "  \"errors\": {\r\n",
      "    \"id\": [\r\n",
      "      \"The value '0' is not valid.\"\r\n",
      "    ]\r\n",
      "  },\r\n",
      "  \"type\": \"https://tools.ietf.org/html/rfc7231#section-6.5.1\",\r\n",
      "  \"title\": \"One or more validation errors occurred.\",\r\n",
      "  \"status\": 400,\r\n",
      "  \"extensions\": {\r\n",
      "    \"traceId\": \"00-9399f13da131278bfb107c701f69dfc9-5f80913e9165b058-00\"\r\n",
      "  }\r\n",
      "}\n",
      "None\n",
      "\r\n",
      "Checking status , id : 0\n"
     ]
    },
    {
     "name": "stderr",
     "output_type": "stream",
     "text": [
      "C:\\Users\\deepasaw\\Anaconda3\\lib\\site-packages\\urllib3\\connectionpool.py:1013: InsecureRequestWarning: Unverified HTTPS request is being made to host 'eastus.customvoice.api.speech.microsoft.com'. Adding certificate verification is strongly advised. See: https://urllib3.readthedocs.io/en/latest/advanced-usage.html#ssl-warnings\n",
      "  warnings.warn(\n"
     ]
    },
    {
     "name": "stdout",
     "output_type": "stream",
     "text": [
      "getSubmittedSyntheses with ID request failed\n",
      "response.status_code: 400\n",
      "response.text: {\r\n",
      "  \"errors\": {\r\n",
      "    \"id\": [\r\n",
      "      \"The value '0' is not valid.\"\r\n",
      "    ]\r\n",
      "  },\r\n",
      "  \"type\": \"https://tools.ietf.org/html/rfc7231#section-6.5.1\",\r\n",
      "  \"title\": \"One or more validation errors occurred.\",\r\n",
      "  \"status\": 400,\r\n",
      "  \"extensions\": {\r\n",
      "    \"traceId\": \"00-7b50ea97e3a72496a2127ee0e5250221-ac0ce9ed4cac9f5b-00\"\r\n",
      "  }\r\n",
      "}\n",
      "None\n",
      "\r\n",
      "Checking status , id : 0\n"
     ]
    },
    {
     "name": "stderr",
     "output_type": "stream",
     "text": [
      "C:\\Users\\deepasaw\\Anaconda3\\lib\\site-packages\\urllib3\\connectionpool.py:1013: InsecureRequestWarning: Unverified HTTPS request is being made to host 'eastus.customvoice.api.speech.microsoft.com'. Adding certificate verification is strongly advised. See: https://urllib3.readthedocs.io/en/latest/advanced-usage.html#ssl-warnings\n",
      "  warnings.warn(\n"
     ]
    },
    {
     "name": "stdout",
     "output_type": "stream",
     "text": [
      "getSubmittedSyntheses with ID request failed\n",
      "response.status_code: 400\n",
      "response.text: {\r\n",
      "  \"errors\": {\r\n",
      "    \"id\": [\r\n",
      "      \"The value '0' is not valid.\"\r\n",
      "    ]\r\n",
      "  },\r\n",
      "  \"type\": \"https://tools.ietf.org/html/rfc7231#section-6.5.1\",\r\n",
      "  \"title\": \"One or more validation errors occurred.\",\r\n",
      "  \"status\": 400,\r\n",
      "  \"extensions\": {\r\n",
      "    \"traceId\": \"00-464bb2385848c41b0ba62127d9a3be5f-217ff32b6af7cde4-00\"\r\n",
      "  }\r\n",
      "}\n",
      "None\n",
      "\r\n",
      "Checking status , id : 0\n"
     ]
    },
    {
     "name": "stderr",
     "output_type": "stream",
     "text": [
      "C:\\Users\\deepasaw\\Anaconda3\\lib\\site-packages\\urllib3\\connectionpool.py:1013: InsecureRequestWarning: Unverified HTTPS request is being made to host 'eastus.customvoice.api.speech.microsoft.com'. Adding certificate verification is strongly advised. See: https://urllib3.readthedocs.io/en/latest/advanced-usage.html#ssl-warnings\n",
      "  warnings.warn(\n"
     ]
    },
    {
     "name": "stdout",
     "output_type": "stream",
     "text": [
      "getSubmittedSyntheses with ID request failed\n",
      "response.status_code: 400\n",
      "response.text: {\r\n",
      "  \"errors\": {\r\n",
      "    \"id\": [\r\n",
      "      \"The value '0' is not valid.\"\r\n",
      "    ]\r\n",
      "  },\r\n",
      "  \"type\": \"https://tools.ietf.org/html/rfc7231#section-6.5.1\",\r\n",
      "  \"title\": \"One or more validation errors occurred.\",\r\n",
      "  \"status\": 400,\r\n",
      "  \"extensions\": {\r\n",
      "    \"traceId\": \"00-2cae1ea527f4c15b8ec62538c9e681b5-57dfc08628105b59-00\"\r\n",
      "  }\r\n",
      "}\n",
      "None\n",
      "\r\n",
      "Checking status , id : 0\n"
     ]
    },
    {
     "name": "stderr",
     "output_type": "stream",
     "text": [
      "C:\\Users\\deepasaw\\Anaconda3\\lib\\site-packages\\urllib3\\connectionpool.py:1013: InsecureRequestWarning: Unverified HTTPS request is being made to host 'eastus.customvoice.api.speech.microsoft.com'. Adding certificate verification is strongly advised. See: https://urllib3.readthedocs.io/en/latest/advanced-usage.html#ssl-warnings\n",
      "  warnings.warn(\n"
     ]
    },
    {
     "name": "stdout",
     "output_type": "stream",
     "text": [
      "getSubmittedSyntheses with ID request failed\n",
      "response.status_code: 400\n",
      "response.text: {\r\n",
      "  \"errors\": {\r\n",
      "    \"id\": [\r\n",
      "      \"The value '0' is not valid.\"\r\n",
      "    ]\r\n",
      "  },\r\n",
      "  \"type\": \"https://tools.ietf.org/html/rfc7231#section-6.5.1\",\r\n",
      "  \"title\": \"One or more validation errors occurred.\",\r\n",
      "  \"status\": 400,\r\n",
      "  \"extensions\": {\r\n",
      "    \"traceId\": \"00-71af549686d7060977f237097d312c9f-65589c8bd04267db-00\"\r\n",
      "  }\r\n",
      "}\n",
      "None\n",
      "\r\n",
      "Checking status , id : 0\n"
     ]
    },
    {
     "name": "stderr",
     "output_type": "stream",
     "text": [
      "C:\\Users\\deepasaw\\Anaconda3\\lib\\site-packages\\urllib3\\connectionpool.py:1013: InsecureRequestWarning: Unverified HTTPS request is being made to host 'eastus.customvoice.api.speech.microsoft.com'. Adding certificate verification is strongly advised. See: https://urllib3.readthedocs.io/en/latest/advanced-usage.html#ssl-warnings\n",
      "  warnings.warn(\n"
     ]
    },
    {
     "name": "stdout",
     "output_type": "stream",
     "text": [
      "getSubmittedSyntheses with ID request failed\n",
      "response.status_code: 400\n",
      "response.text: {\r\n",
      "  \"errors\": {\r\n",
      "    \"id\": [\r\n",
      "      \"The value '0' is not valid.\"\r\n",
      "    ]\r\n",
      "  },\r\n",
      "  \"type\": \"https://tools.ietf.org/html/rfc7231#section-6.5.1\",\r\n",
      "  \"title\": \"One or more validation errors occurred.\",\r\n",
      "  \"status\": 400,\r\n",
      "  \"extensions\": {\r\n",
      "    \"traceId\": \"00-cc9a2fef4d498fd5412fc56ef00e7254-de3a0da1fc5d4048-00\"\r\n",
      "  }\r\n",
      "}\n",
      "None\n",
      "\r\n",
      "Checking status , id : 0\n"
     ]
    },
    {
     "name": "stderr",
     "output_type": "stream",
     "text": [
      "C:\\Users\\deepasaw\\Anaconda3\\lib\\site-packages\\urllib3\\connectionpool.py:1013: InsecureRequestWarning: Unverified HTTPS request is being made to host 'eastus.customvoice.api.speech.microsoft.com'. Adding certificate verification is strongly advised. See: https://urllib3.readthedocs.io/en/latest/advanced-usage.html#ssl-warnings\n",
      "  warnings.warn(\n"
     ]
    },
    {
     "name": "stdout",
     "output_type": "stream",
     "text": [
      "getSubmittedSyntheses with ID request failed\n",
      "response.status_code: 400\n",
      "response.text: {\r\n",
      "  \"errors\": {\r\n",
      "    \"id\": [\r\n",
      "      \"The value '0' is not valid.\"\r\n",
      "    ]\r\n",
      "  },\r\n",
      "  \"type\": \"https://tools.ietf.org/html/rfc7231#section-6.5.1\",\r\n",
      "  \"title\": \"One or more validation errors occurred.\",\r\n",
      "  \"status\": 400,\r\n",
      "  \"extensions\": {\r\n",
      "    \"traceId\": \"00-3df6949545a3714ba60ce52159c3a25d-3e0d7677e71fabbb-00\"\r\n",
      "  }\r\n",
      "}\n",
      "None\n",
      "\r\n",
      "Checking status , id : 0\n"
     ]
    },
    {
     "name": "stderr",
     "output_type": "stream",
     "text": [
      "C:\\Users\\deepasaw\\Anaconda3\\lib\\site-packages\\urllib3\\connectionpool.py:1013: InsecureRequestWarning: Unverified HTTPS request is being made to host 'eastus.customvoice.api.speech.microsoft.com'. Adding certificate verification is strongly advised. See: https://urllib3.readthedocs.io/en/latest/advanced-usage.html#ssl-warnings\n",
      "  warnings.warn(\n"
     ]
    },
    {
     "name": "stdout",
     "output_type": "stream",
     "text": [
      "getSubmittedSyntheses with ID request failed\n",
      "response.status_code: 400\n",
      "response.text: {\r\n",
      "  \"errors\": {\r\n",
      "    \"id\": [\r\n",
      "      \"The value '0' is not valid.\"\r\n",
      "    ]\r\n",
      "  },\r\n",
      "  \"type\": \"https://tools.ietf.org/html/rfc7231#section-6.5.1\",\r\n",
      "  \"title\": \"One or more validation errors occurred.\",\r\n",
      "  \"status\": 400,\r\n",
      "  \"extensions\": {\r\n",
      "    \"traceId\": \"00-44ae972303c59e0342660b5553c12070-ec3ef4331dbfe00a-00\"\r\n",
      "  }\r\n",
      "}\n",
      "None\n",
      "\r\n",
      "Checking status , id : 0\n"
     ]
    },
    {
     "name": "stderr",
     "output_type": "stream",
     "text": [
      "C:\\Users\\deepasaw\\Anaconda3\\lib\\site-packages\\urllib3\\connectionpool.py:1013: InsecureRequestWarning: Unverified HTTPS request is being made to host 'eastus.customvoice.api.speech.microsoft.com'. Adding certificate verification is strongly advised. See: https://urllib3.readthedocs.io/en/latest/advanced-usage.html#ssl-warnings\n",
      "  warnings.warn(\n"
     ]
    },
    {
     "name": "stdout",
     "output_type": "stream",
     "text": [
      "getSubmittedSyntheses with ID request failed\n",
      "response.status_code: 400\n",
      "response.text: {\r\n",
      "  \"errors\": {\r\n",
      "    \"id\": [\r\n",
      "      \"The value '0' is not valid.\"\r\n",
      "    ]\r\n",
      "  },\r\n",
      "  \"type\": \"https://tools.ietf.org/html/rfc7231#section-6.5.1\",\r\n",
      "  \"title\": \"One or more validation errors occurred.\",\r\n",
      "  \"status\": 400,\r\n",
      "  \"extensions\": {\r\n",
      "    \"traceId\": \"00-4928719df11b9ab678ae3a98dad31494-8a02ae938899d677-00\"\r\n",
      "  }\r\n",
      "}\n",
      "None\n",
      "\r\n",
      "Checking status , id : 0\n"
     ]
    },
    {
     "name": "stderr",
     "output_type": "stream",
     "text": [
      "C:\\Users\\deepasaw\\Anaconda3\\lib\\site-packages\\urllib3\\connectionpool.py:1013: InsecureRequestWarning: Unverified HTTPS request is being made to host 'eastus.customvoice.api.speech.microsoft.com'. Adding certificate verification is strongly advised. See: https://urllib3.readthedocs.io/en/latest/advanced-usage.html#ssl-warnings\n",
      "  warnings.warn(\n"
     ]
    },
    {
     "name": "stdout",
     "output_type": "stream",
     "text": [
      "getSubmittedSyntheses with ID request failed\n",
      "response.status_code: 400\n",
      "response.text: {\r\n",
      "  \"errors\": {\r\n",
      "    \"id\": [\r\n",
      "      \"The value '0' is not valid.\"\r\n",
      "    ]\r\n",
      "  },\r\n",
      "  \"type\": \"https://tools.ietf.org/html/rfc7231#section-6.5.1\",\r\n",
      "  \"title\": \"One or more validation errors occurred.\",\r\n",
      "  \"status\": 400,\r\n",
      "  \"extensions\": {\r\n",
      "    \"traceId\": \"00-1bb8f018e18246488234669b838837ad-1be909e6f6f9acdd-00\"\r\n",
      "  }\r\n",
      "}\n",
      "None\n",
      "\r\n",
      "Checking status , id : 0\n"
     ]
    },
    {
     "name": "stderr",
     "output_type": "stream",
     "text": [
      "C:\\Users\\deepasaw\\Anaconda3\\lib\\site-packages\\urllib3\\connectionpool.py:1013: InsecureRequestWarning: Unverified HTTPS request is being made to host 'eastus.customvoice.api.speech.microsoft.com'. Adding certificate verification is strongly advised. See: https://urllib3.readthedocs.io/en/latest/advanced-usage.html#ssl-warnings\n",
      "  warnings.warn(\n"
     ]
    },
    {
     "name": "stdout",
     "output_type": "stream",
     "text": [
      "getSubmittedSyntheses with ID request failed\n",
      "response.status_code: 400\n",
      "response.text: {\r\n",
      "  \"errors\": {\r\n",
      "    \"id\": [\r\n",
      "      \"The value '0' is not valid.\"\r\n",
      "    ]\r\n",
      "  },\r\n",
      "  \"type\": \"https://tools.ietf.org/html/rfc7231#section-6.5.1\",\r\n",
      "  \"title\": \"One or more validation errors occurred.\",\r\n",
      "  \"status\": 400,\r\n",
      "  \"extensions\": {\r\n",
      "    \"traceId\": \"00-1db11372f575ad2c68c9fb772c2f3f8b-3ca00e69798117f2-00\"\r\n",
      "  }\r\n",
      "}\n",
      "None\n",
      "\r\n",
      "Checking status , id : 0\n"
     ]
    },
    {
     "name": "stderr",
     "output_type": "stream",
     "text": [
      "C:\\Users\\deepasaw\\Anaconda3\\lib\\site-packages\\urllib3\\connectionpool.py:1013: InsecureRequestWarning: Unverified HTTPS request is being made to host 'eastus.customvoice.api.speech.microsoft.com'. Adding certificate verification is strongly advised. See: https://urllib3.readthedocs.io/en/latest/advanced-usage.html#ssl-warnings\n",
      "  warnings.warn(\n"
     ]
    },
    {
     "name": "stdout",
     "output_type": "stream",
     "text": [
      "getSubmittedSyntheses with ID request failed\n",
      "response.status_code: 400\n",
      "response.text: {\r\n",
      "  \"errors\": {\r\n",
      "    \"id\": [\r\n",
      "      \"The value '0' is not valid.\"\r\n",
      "    ]\r\n",
      "  },\r\n",
      "  \"type\": \"https://tools.ietf.org/html/rfc7231#section-6.5.1\",\r\n",
      "  \"title\": \"One or more validation errors occurred.\",\r\n",
      "  \"status\": 400,\r\n",
      "  \"extensions\": {\r\n",
      "    \"traceId\": \"00-bf0f2088f7d0a590f090814567d9273f-623f4169854b079c-00\"\r\n",
      "  }\r\n",
      "}\n",
      "None\n",
      "\r\n",
      "Checking status , id : 0\n"
     ]
    },
    {
     "name": "stderr",
     "output_type": "stream",
     "text": [
      "C:\\Users\\deepasaw\\Anaconda3\\lib\\site-packages\\urllib3\\connectionpool.py:1013: InsecureRequestWarning: Unverified HTTPS request is being made to host 'eastus.customvoice.api.speech.microsoft.com'. Adding certificate verification is strongly advised. See: https://urllib3.readthedocs.io/en/latest/advanced-usage.html#ssl-warnings\n",
      "  warnings.warn(\n"
     ]
    },
    {
     "name": "stdout",
     "output_type": "stream",
     "text": [
      "getSubmittedSyntheses with ID request failed\n",
      "response.status_code: 400\n",
      "response.text: {\r\n",
      "  \"errors\": {\r\n",
      "    \"id\": [\r\n",
      "      \"The value '0' is not valid.\"\r\n",
      "    ]\r\n",
      "  },\r\n",
      "  \"type\": \"https://tools.ietf.org/html/rfc7231#section-6.5.1\",\r\n",
      "  \"title\": \"One or more validation errors occurred.\",\r\n",
      "  \"status\": 400,\r\n",
      "  \"extensions\": {\r\n",
      "    \"traceId\": \"00-026e0058c87ce738d19f1b7e66392d51-8285b03844711d67-00\"\r\n",
      "  }\r\n",
      "}\n",
      "None\n",
      "\r\n",
      "Checking status , id : 0\n"
     ]
    },
    {
     "name": "stderr",
     "output_type": "stream",
     "text": [
      "C:\\Users\\deepasaw\\Anaconda3\\lib\\site-packages\\urllib3\\connectionpool.py:1013: InsecureRequestWarning: Unverified HTTPS request is being made to host 'eastus.customvoice.api.speech.microsoft.com'. Adding certificate verification is strongly advised. See: https://urllib3.readthedocs.io/en/latest/advanced-usage.html#ssl-warnings\n",
      "  warnings.warn(\n"
     ]
    },
    {
     "name": "stdout",
     "output_type": "stream",
     "text": [
      "getSubmittedSyntheses with ID request failed\n",
      "response.status_code: 400\n",
      "response.text: {\r\n",
      "  \"errors\": {\r\n",
      "    \"id\": [\r\n",
      "      \"The value '0' is not valid.\"\r\n",
      "    ]\r\n",
      "  },\r\n",
      "  \"type\": \"https://tools.ietf.org/html/rfc7231#section-6.5.1\",\r\n",
      "  \"title\": \"One or more validation errors occurred.\",\r\n",
      "  \"status\": 400,\r\n",
      "  \"extensions\": {\r\n",
      "    \"traceId\": \"00-e33f06b6e9c8029a598eadbaf5c25e11-6f2a339a3b39c3b4-00\"\r\n",
      "  }\r\n",
      "}\n",
      "None\n",
      "\r\n",
      "Checking status , id : 0\n"
     ]
    },
    {
     "name": "stderr",
     "output_type": "stream",
     "text": [
      "C:\\Users\\deepasaw\\Anaconda3\\lib\\site-packages\\urllib3\\connectionpool.py:1013: InsecureRequestWarning: Unverified HTTPS request is being made to host 'eastus.customvoice.api.speech.microsoft.com'. Adding certificate verification is strongly advised. See: https://urllib3.readthedocs.io/en/latest/advanced-usage.html#ssl-warnings\n",
      "  warnings.warn(\n"
     ]
    },
    {
     "name": "stdout",
     "output_type": "stream",
     "text": [
      "getSubmittedSyntheses with ID request failed\n",
      "response.status_code: 400\n",
      "response.text: {\r\n",
      "  \"errors\": {\r\n",
      "    \"id\": [\r\n",
      "      \"The value '0' is not valid.\"\r\n",
      "    ]\r\n",
      "  },\r\n",
      "  \"type\": \"https://tools.ietf.org/html/rfc7231#section-6.5.1\",\r\n",
      "  \"title\": \"One or more validation errors occurred.\",\r\n",
      "  \"status\": 400,\r\n",
      "  \"extensions\": {\r\n",
      "    \"traceId\": \"00-0b7ae684b5353e6f8d512f1103842362-fdafe637cdcc67a3-00\"\r\n",
      "  }\r\n",
      "}\n",
      "None\n",
      "\r\n",
      "Checking status , id : 0\n"
     ]
    },
    {
     "name": "stderr",
     "output_type": "stream",
     "text": [
      "C:\\Users\\deepasaw\\Anaconda3\\lib\\site-packages\\urllib3\\connectionpool.py:1013: InsecureRequestWarning: Unverified HTTPS request is being made to host 'eastus.customvoice.api.speech.microsoft.com'. Adding certificate verification is strongly advised. See: https://urllib3.readthedocs.io/en/latest/advanced-usage.html#ssl-warnings\n",
      "  warnings.warn(\n"
     ]
    },
    {
     "name": "stdout",
     "output_type": "stream",
     "text": [
      "getSubmittedSyntheses with ID request failed\n",
      "response.status_code: 400\n",
      "response.text: {\r\n",
      "  \"errors\": {\r\n",
      "    \"id\": [\r\n",
      "      \"The value '0' is not valid.\"\r\n",
      "    ]\r\n",
      "  },\r\n",
      "  \"type\": \"https://tools.ietf.org/html/rfc7231#section-6.5.1\",\r\n",
      "  \"title\": \"One or more validation errors occurred.\",\r\n",
      "  \"status\": 400,\r\n",
      "  \"extensions\": {\r\n",
      "    \"traceId\": \"00-68037c33d82cf362ec5b4f990e4ec089-07f3a34e33dd75e1-00\"\r\n",
      "  }\r\n",
      "}\n",
      "None\n",
      "\r\n",
      "Checking status , id : 0\n"
     ]
    },
    {
     "name": "stderr",
     "output_type": "stream",
     "text": [
      "C:\\Users\\deepasaw\\Anaconda3\\lib\\site-packages\\urllib3\\connectionpool.py:1013: InsecureRequestWarning: Unverified HTTPS request is being made to host 'eastus.customvoice.api.speech.microsoft.com'. Adding certificate verification is strongly advised. See: https://urllib3.readthedocs.io/en/latest/advanced-usage.html#ssl-warnings\n",
      "  warnings.warn(\n"
     ]
    },
    {
     "name": "stdout",
     "output_type": "stream",
     "text": [
      "getSubmittedSyntheses with ID request failed\n",
      "response.status_code: 400\n",
      "response.text: {\r\n",
      "  \"errors\": {\r\n",
      "    \"id\": [\r\n",
      "      \"The value '0' is not valid.\"\r\n",
      "    ]\r\n",
      "  },\r\n",
      "  \"type\": \"https://tools.ietf.org/html/rfc7231#section-6.5.1\",\r\n",
      "  \"title\": \"One or more validation errors occurred.\",\r\n",
      "  \"status\": 400,\r\n",
      "  \"extensions\": {\r\n",
      "    \"traceId\": \"00-99080fa4d235237efd33aaa5a94f4974-03e3d91b72c71fc3-00\"\r\n",
      "  }\r\n",
      "}\n",
      "None\n",
      "\r\n",
      "Checking status , id : 0\n"
     ]
    },
    {
     "name": "stderr",
     "output_type": "stream",
     "text": [
      "C:\\Users\\deepasaw\\Anaconda3\\lib\\site-packages\\urllib3\\connectionpool.py:1013: InsecureRequestWarning: Unverified HTTPS request is being made to host 'eastus.customvoice.api.speech.microsoft.com'. Adding certificate verification is strongly advised. See: https://urllib3.readthedocs.io/en/latest/advanced-usage.html#ssl-warnings\n",
      "  warnings.warn(\n"
     ]
    },
    {
     "name": "stdout",
     "output_type": "stream",
     "text": [
      "getSubmittedSyntheses with ID request failed\n",
      "response.status_code: 400\n",
      "response.text: {\r\n",
      "  \"errors\": {\r\n",
      "    \"id\": [\r\n",
      "      \"The value '0' is not valid.\"\r\n",
      "    ]\r\n",
      "  },\r\n",
      "  \"type\": \"https://tools.ietf.org/html/rfc7231#section-6.5.1\",\r\n",
      "  \"title\": \"One or more validation errors occurred.\",\r\n",
      "  \"status\": 400,\r\n",
      "  \"extensions\": {\r\n",
      "    \"traceId\": \"00-f85f5109d49a0154508931e6010a3a90-d4b0a7e8bcb5f563-00\"\r\n",
      "  }\r\n",
      "}\n",
      "None\n",
      "\r\n",
      "Checking status , id : 0\n"
     ]
    },
    {
     "name": "stderr",
     "output_type": "stream",
     "text": [
      "C:\\Users\\deepasaw\\Anaconda3\\lib\\site-packages\\urllib3\\connectionpool.py:1013: InsecureRequestWarning: Unverified HTTPS request is being made to host 'eastus.customvoice.api.speech.microsoft.com'. Adding certificate verification is strongly advised. See: https://urllib3.readthedocs.io/en/latest/advanced-usage.html#ssl-warnings\n",
      "  warnings.warn(\n"
     ]
    },
    {
     "name": "stdout",
     "output_type": "stream",
     "text": [
      "getSubmittedSyntheses with ID request failed\n",
      "response.status_code: 400\n",
      "response.text: {\r\n",
      "  \"errors\": {\r\n",
      "    \"id\": [\r\n",
      "      \"The value '0' is not valid.\"\r\n",
      "    ]\r\n",
      "  },\r\n",
      "  \"type\": \"https://tools.ietf.org/html/rfc7231#section-6.5.1\",\r\n",
      "  \"title\": \"One or more validation errors occurred.\",\r\n",
      "  \"status\": 400,\r\n",
      "  \"extensions\": {\r\n",
      "    \"traceId\": \"00-40d36b565800f030db63262bc6fb2f3b-de9745cccc51f545-00\"\r\n",
      "  }\r\n",
      "}\n",
      "None\n",
      "\r\n",
      "Checking status , id : 0\n"
     ]
    },
    {
     "name": "stderr",
     "output_type": "stream",
     "text": [
      "C:\\Users\\deepasaw\\Anaconda3\\lib\\site-packages\\urllib3\\connectionpool.py:1013: InsecureRequestWarning: Unverified HTTPS request is being made to host 'eastus.customvoice.api.speech.microsoft.com'. Adding certificate verification is strongly advised. See: https://urllib3.readthedocs.io/en/latest/advanced-usage.html#ssl-warnings\n",
      "  warnings.warn(\n"
     ]
    },
    {
     "name": "stdout",
     "output_type": "stream",
     "text": [
      "getSubmittedSyntheses with ID request failed\n",
      "response.status_code: 400\n",
      "response.text: {\r\n",
      "  \"errors\": {\r\n",
      "    \"id\": [\r\n",
      "      \"The value '0' is not valid.\"\r\n",
      "    ]\r\n",
      "  },\r\n",
      "  \"type\": \"https://tools.ietf.org/html/rfc7231#section-6.5.1\",\r\n",
      "  \"title\": \"One or more validation errors occurred.\",\r\n",
      "  \"status\": 400,\r\n",
      "  \"extensions\": {\r\n",
      "    \"traceId\": \"00-bc9096c2e4356e008d0db3f2a923c0d2-b509323212af2d74-00\"\r\n",
      "  }\r\n",
      "}\n",
      "None\n",
      "\r\n",
      "Checking status , id : 0\n"
     ]
    },
    {
     "name": "stderr",
     "output_type": "stream",
     "text": [
      "C:\\Users\\deepasaw\\Anaconda3\\lib\\site-packages\\urllib3\\connectionpool.py:1013: InsecureRequestWarning: Unverified HTTPS request is being made to host 'eastus.customvoice.api.speech.microsoft.com'. Adding certificate verification is strongly advised. See: https://urllib3.readthedocs.io/en/latest/advanced-usage.html#ssl-warnings\n",
      "  warnings.warn(\n"
     ]
    },
    {
     "name": "stdout",
     "output_type": "stream",
     "text": [
      "getSubmittedSyntheses with ID request failed\n",
      "response.status_code: 400\n",
      "response.text: {\r\n",
      "  \"errors\": {\r\n",
      "    \"id\": [\r\n",
      "      \"The value '0' is not valid.\"\r\n",
      "    ]\r\n",
      "  },\r\n",
      "  \"type\": \"https://tools.ietf.org/html/rfc7231#section-6.5.1\",\r\n",
      "  \"title\": \"One or more validation errors occurred.\",\r\n",
      "  \"status\": 400,\r\n",
      "  \"extensions\": {\r\n",
      "    \"traceId\": \"00-2828e5b200ec8bc05748d4113614c7de-6eaeddde7fe79c02-00\"\r\n",
      "  }\r\n",
      "}\n",
      "None\n",
      "\r\n",
      "Checking status , id : 0\n"
     ]
    },
    {
     "name": "stderr",
     "output_type": "stream",
     "text": [
      "C:\\Users\\deepasaw\\Anaconda3\\lib\\site-packages\\urllib3\\connectionpool.py:1013: InsecureRequestWarning: Unverified HTTPS request is being made to host 'eastus.customvoice.api.speech.microsoft.com'. Adding certificate verification is strongly advised. See: https://urllib3.readthedocs.io/en/latest/advanced-usage.html#ssl-warnings\n",
      "  warnings.warn(\n"
     ]
    },
    {
     "name": "stdout",
     "output_type": "stream",
     "text": [
      "getSubmittedSyntheses with ID request failed\n",
      "response.status_code: 400\n",
      "response.text: {\r\n",
      "  \"errors\": {\r\n",
      "    \"id\": [\r\n",
      "      \"The value '0' is not valid.\"\r\n",
      "    ]\r\n",
      "  },\r\n",
      "  \"type\": \"https://tools.ietf.org/html/rfc7231#section-6.5.1\",\r\n",
      "  \"title\": \"One or more validation errors occurred.\",\r\n",
      "  \"status\": 400,\r\n",
      "  \"extensions\": {\r\n",
      "    \"traceId\": \"00-e2bef3f9241ddb26fa9bd3f3abc2053b-a3c01c85e4209c6d-00\"\r\n",
      "  }\r\n",
      "}\n",
      "None\n",
      "\r\n",
      "Checking status , id : 0\n"
     ]
    },
    {
     "name": "stderr",
     "output_type": "stream",
     "text": [
      "C:\\Users\\deepasaw\\Anaconda3\\lib\\site-packages\\urllib3\\connectionpool.py:1013: InsecureRequestWarning: Unverified HTTPS request is being made to host 'eastus.customvoice.api.speech.microsoft.com'. Adding certificate verification is strongly advised. See: https://urllib3.readthedocs.io/en/latest/advanced-usage.html#ssl-warnings\n",
      "  warnings.warn(\n"
     ]
    },
    {
     "name": "stdout",
     "output_type": "stream",
     "text": [
      "getSubmittedSyntheses with ID request failed\n",
      "response.status_code: 400\n",
      "response.text: {\r\n",
      "  \"errors\": {\r\n",
      "    \"id\": [\r\n",
      "      \"The value '0' is not valid.\"\r\n",
      "    ]\r\n",
      "  },\r\n",
      "  \"type\": \"https://tools.ietf.org/html/rfc7231#section-6.5.1\",\r\n",
      "  \"title\": \"One or more validation errors occurred.\",\r\n",
      "  \"status\": 400,\r\n",
      "  \"extensions\": {\r\n",
      "    \"traceId\": \"00-09a04758ad62a9c126eb6fd3102e43a1-c14170f142812f24-00\"\r\n",
      "  }\r\n",
      "}\n",
      "None\n",
      "\r\n",
      "Checking status , id : 0\n"
     ]
    },
    {
     "name": "stderr",
     "output_type": "stream",
     "text": [
      "C:\\Users\\deepasaw\\Anaconda3\\lib\\site-packages\\urllib3\\connectionpool.py:1013: InsecureRequestWarning: Unverified HTTPS request is being made to host 'eastus.customvoice.api.speech.microsoft.com'. Adding certificate verification is strongly advised. See: https://urllib3.readthedocs.io/en/latest/advanced-usage.html#ssl-warnings\n",
      "  warnings.warn(\n"
     ]
    },
    {
     "name": "stdout",
     "output_type": "stream",
     "text": [
      "getSubmittedSyntheses with ID request failed\n",
      "response.status_code: 400\n",
      "response.text: {\r\n",
      "  \"errors\": {\r\n",
      "    \"id\": [\r\n",
      "      \"The value '0' is not valid.\"\r\n",
      "    ]\r\n",
      "  },\r\n",
      "  \"type\": \"https://tools.ietf.org/html/rfc7231#section-6.5.1\",\r\n",
      "  \"title\": \"One or more validation errors occurred.\",\r\n",
      "  \"status\": 400,\r\n",
      "  \"extensions\": {\r\n",
      "    \"traceId\": \"00-a544dd0d8bcf2e44ee3184ba023b1a63-195fb52fd9d0fc63-00\"\r\n",
      "  }\r\n",
      "}\n",
      "None\n",
      "\r\n",
      "Checking status , id : 0\n"
     ]
    },
    {
     "name": "stderr",
     "output_type": "stream",
     "text": [
      "C:\\Users\\deepasaw\\Anaconda3\\lib\\site-packages\\urllib3\\connectionpool.py:1013: InsecureRequestWarning: Unverified HTTPS request is being made to host 'eastus.customvoice.api.speech.microsoft.com'. Adding certificate verification is strongly advised. See: https://urllib3.readthedocs.io/en/latest/advanced-usage.html#ssl-warnings\n",
      "  warnings.warn(\n"
     ]
    },
    {
     "name": "stdout",
     "output_type": "stream",
     "text": [
      "getSubmittedSyntheses with ID request failed\n",
      "response.status_code: 400\n",
      "response.text: {\r\n",
      "  \"errors\": {\r\n",
      "    \"id\": [\r\n",
      "      \"The value '0' is not valid.\"\r\n",
      "    ]\r\n",
      "  },\r\n",
      "  \"type\": \"https://tools.ietf.org/html/rfc7231#section-6.5.1\",\r\n",
      "  \"title\": \"One or more validation errors occurred.\",\r\n",
      "  \"status\": 400,\r\n",
      "  \"extensions\": {\r\n",
      "    \"traceId\": \"00-67d1c4ef7e6e1e78c4a7c66ac2b91066-ac01daaac9b99706-00\"\r\n",
      "  }\r\n",
      "}\n",
      "None\n",
      "\r\n",
      "Checking status , id : 0\n"
     ]
    },
    {
     "name": "stderr",
     "output_type": "stream",
     "text": [
      "C:\\Users\\deepasaw\\Anaconda3\\lib\\site-packages\\urllib3\\connectionpool.py:1013: InsecureRequestWarning: Unverified HTTPS request is being made to host 'eastus.customvoice.api.speech.microsoft.com'. Adding certificate verification is strongly advised. See: https://urllib3.readthedocs.io/en/latest/advanced-usage.html#ssl-warnings\n",
      "  warnings.warn(\n"
     ]
    },
    {
     "name": "stdout",
     "output_type": "stream",
     "text": [
      "getSubmittedSyntheses with ID request failed\n",
      "response.status_code: 400\n",
      "response.text: {\r\n",
      "  \"errors\": {\r\n",
      "    \"id\": [\r\n",
      "      \"The value '0' is not valid.\"\r\n",
      "    ]\r\n",
      "  },\r\n",
      "  \"type\": \"https://tools.ietf.org/html/rfc7231#section-6.5.1\",\r\n",
      "  \"title\": \"One or more validation errors occurred.\",\r\n",
      "  \"status\": 400,\r\n",
      "  \"extensions\": {\r\n",
      "    \"traceId\": \"00-a754d5136e259dae61ac38a5352cde38-d44df10c4ca9b06f-00\"\r\n",
      "  }\r\n",
      "}\n",
      "None\n",
      "\r\n",
      "Checking status , id : 0\n"
     ]
    },
    {
     "name": "stderr",
     "output_type": "stream",
     "text": [
      "C:\\Users\\deepasaw\\Anaconda3\\lib\\site-packages\\urllib3\\connectionpool.py:1013: InsecureRequestWarning: Unverified HTTPS request is being made to host 'eastus.customvoice.api.speech.microsoft.com'. Adding certificate verification is strongly advised. See: https://urllib3.readthedocs.io/en/latest/advanced-usage.html#ssl-warnings\n",
      "  warnings.warn(\n"
     ]
    },
    {
     "name": "stdout",
     "output_type": "stream",
     "text": [
      "getSubmittedSyntheses with ID request failed\n",
      "response.status_code: 400\n",
      "response.text: {\r\n",
      "  \"errors\": {\r\n",
      "    \"id\": [\r\n",
      "      \"The value '0' is not valid.\"\r\n",
      "    ]\r\n",
      "  },\r\n",
      "  \"type\": \"https://tools.ietf.org/html/rfc7231#section-6.5.1\",\r\n",
      "  \"title\": \"One or more validation errors occurred.\",\r\n",
      "  \"status\": 400,\r\n",
      "  \"extensions\": {\r\n",
      "    \"traceId\": \"00-b616bf31b8c233e795a1a78a461f68b7-f38c425fc1eb7397-00\"\r\n",
      "  }\r\n",
      "}\n",
      "None\n",
      "\r\n",
      "Checking status , id : 0\n"
     ]
    },
    {
     "name": "stderr",
     "output_type": "stream",
     "text": [
      "C:\\Users\\deepasaw\\Anaconda3\\lib\\site-packages\\urllib3\\connectionpool.py:1013: InsecureRequestWarning: Unverified HTTPS request is being made to host 'eastus.customvoice.api.speech.microsoft.com'. Adding certificate verification is strongly advised. See: https://urllib3.readthedocs.io/en/latest/advanced-usage.html#ssl-warnings\n",
      "  warnings.warn(\n"
     ]
    },
    {
     "name": "stdout",
     "output_type": "stream",
     "text": [
      "getSubmittedSyntheses with ID request failed\n",
      "response.status_code: 400\n",
      "response.text: {\r\n",
      "  \"errors\": {\r\n",
      "    \"id\": [\r\n",
      "      \"The value '0' is not valid.\"\r\n",
      "    ]\r\n",
      "  },\r\n",
      "  \"type\": \"https://tools.ietf.org/html/rfc7231#section-6.5.1\",\r\n",
      "  \"title\": \"One or more validation errors occurred.\",\r\n",
      "  \"status\": 400,\r\n",
      "  \"extensions\": {\r\n",
      "    \"traceId\": \"00-6d38b672f438e7fa9167ca918761556a-53fe01b2a22bb960-00\"\r\n",
      "  }\r\n",
      "}\n",
      "None\n",
      "\r\n",
      "Checking status , id : 0\n"
     ]
    },
    {
     "name": "stderr",
     "output_type": "stream",
     "text": [
      "C:\\Users\\deepasaw\\Anaconda3\\lib\\site-packages\\urllib3\\connectionpool.py:1013: InsecureRequestWarning: Unverified HTTPS request is being made to host 'eastus.customvoice.api.speech.microsoft.com'. Adding certificate verification is strongly advised. See: https://urllib3.readthedocs.io/en/latest/advanced-usage.html#ssl-warnings\n",
      "  warnings.warn(\n"
     ]
    },
    {
     "name": "stdout",
     "output_type": "stream",
     "text": [
      "getSubmittedSyntheses with ID request failed\n",
      "response.status_code: 400\n",
      "response.text: {\r\n",
      "  \"errors\": {\r\n",
      "    \"id\": [\r\n",
      "      \"The value '0' is not valid.\"\r\n",
      "    ]\r\n",
      "  },\r\n",
      "  \"type\": \"https://tools.ietf.org/html/rfc7231#section-6.5.1\",\r\n",
      "  \"title\": \"One or more validation errors occurred.\",\r\n",
      "  \"status\": 400,\r\n",
      "  \"extensions\": {\r\n",
      "    \"traceId\": \"00-b284f2dc23c5f831fc77f1c6a31af1e7-1a901af68c5917fb-00\"\r\n",
      "  }\r\n",
      "}\n",
      "None\n",
      "\r\n",
      "Checking status , id : 0\n"
     ]
    },
    {
     "name": "stderr",
     "output_type": "stream",
     "text": [
      "C:\\Users\\deepasaw\\Anaconda3\\lib\\site-packages\\urllib3\\connectionpool.py:1013: InsecureRequestWarning: Unverified HTTPS request is being made to host 'eastus.customvoice.api.speech.microsoft.com'. Adding certificate verification is strongly advised. See: https://urllib3.readthedocs.io/en/latest/advanced-usage.html#ssl-warnings\n",
      "  warnings.warn(\n"
     ]
    },
    {
     "name": "stdout",
     "output_type": "stream",
     "text": [
      "getSubmittedSyntheses with ID request failed\n",
      "response.status_code: 400\n",
      "response.text: {\r\n",
      "  \"errors\": {\r\n",
      "    \"id\": [\r\n",
      "      \"The value '0' is not valid.\"\r\n",
      "    ]\r\n",
      "  },\r\n",
      "  \"type\": \"https://tools.ietf.org/html/rfc7231#section-6.5.1\",\r\n",
      "  \"title\": \"One or more validation errors occurred.\",\r\n",
      "  \"status\": 400,\r\n",
      "  \"extensions\": {\r\n",
      "    \"traceId\": \"00-a98f43893265c46de262ca71532f46ec-1989169d9e0b2d1e-00\"\r\n",
      "  }\r\n",
      "}\n",
      "None\n",
      "\r\n",
      "Checking status , id : 0\n"
     ]
    },
    {
     "name": "stderr",
     "output_type": "stream",
     "text": [
      "C:\\Users\\deepasaw\\Anaconda3\\lib\\site-packages\\urllib3\\connectionpool.py:1013: InsecureRequestWarning: Unverified HTTPS request is being made to host 'eastus.customvoice.api.speech.microsoft.com'. Adding certificate verification is strongly advised. See: https://urllib3.readthedocs.io/en/latest/advanced-usage.html#ssl-warnings\n",
      "  warnings.warn(\n"
     ]
    },
    {
     "name": "stdout",
     "output_type": "stream",
     "text": [
      "getSubmittedSyntheses with ID request failed\n",
      "response.status_code: 400\n",
      "response.text: {\r\n",
      "  \"errors\": {\r\n",
      "    \"id\": [\r\n",
      "      \"The value '0' is not valid.\"\r\n",
      "    ]\r\n",
      "  },\r\n",
      "  \"type\": \"https://tools.ietf.org/html/rfc7231#section-6.5.1\",\r\n",
      "  \"title\": \"One or more validation errors occurred.\",\r\n",
      "  \"status\": 400,\r\n",
      "  \"extensions\": {\r\n",
      "    \"traceId\": \"00-052b8e458bce9c8a6a4c26a62f7b7c3f-3f097f4fb75a67b9-00\"\r\n",
      "  }\r\n",
      "}\n",
      "None\n",
      "\r\n",
      "Checking status , id : 0\n"
     ]
    },
    {
     "name": "stderr",
     "output_type": "stream",
     "text": [
      "C:\\Users\\deepasaw\\Anaconda3\\lib\\site-packages\\urllib3\\connectionpool.py:1013: InsecureRequestWarning: Unverified HTTPS request is being made to host 'eastus.customvoice.api.speech.microsoft.com'. Adding certificate verification is strongly advised. See: https://urllib3.readthedocs.io/en/latest/advanced-usage.html#ssl-warnings\n",
      "  warnings.warn(\n"
     ]
    },
    {
     "name": "stdout",
     "output_type": "stream",
     "text": [
      "getSubmittedSyntheses with ID request failed\n",
      "response.status_code: 400\n",
      "response.text: {\r\n",
      "  \"errors\": {\r\n",
      "    \"id\": [\r\n",
      "      \"The value '0' is not valid.\"\r\n",
      "    ]\r\n",
      "  },\r\n",
      "  \"type\": \"https://tools.ietf.org/html/rfc7231#section-6.5.1\",\r\n",
      "  \"title\": \"One or more validation errors occurred.\",\r\n",
      "  \"status\": 400,\r\n",
      "  \"extensions\": {\r\n",
      "    \"traceId\": \"00-c7ae3a018b457a824c648fb4d113de5d-236f75306eac2bca-00\"\r\n",
      "  }\r\n",
      "}\n",
      "None\n",
      "\r\n",
      "Checking status , id : 0\n"
     ]
    },
    {
     "name": "stderr",
     "output_type": "stream",
     "text": [
      "C:\\Users\\deepasaw\\Anaconda3\\lib\\site-packages\\urllib3\\connectionpool.py:1013: InsecureRequestWarning: Unverified HTTPS request is being made to host 'eastus.customvoice.api.speech.microsoft.com'. Adding certificate verification is strongly advised. See: https://urllib3.readthedocs.io/en/latest/advanced-usage.html#ssl-warnings\n",
      "  warnings.warn(\n"
     ]
    },
    {
     "name": "stdout",
     "output_type": "stream",
     "text": [
      "getSubmittedSyntheses with ID request failed\n",
      "response.status_code: 400\n",
      "response.text: {\r\n",
      "  \"errors\": {\r\n",
      "    \"id\": [\r\n",
      "      \"The value '0' is not valid.\"\r\n",
      "    ]\r\n",
      "  },\r\n",
      "  \"type\": \"https://tools.ietf.org/html/rfc7231#section-6.5.1\",\r\n",
      "  \"title\": \"One or more validation errors occurred.\",\r\n",
      "  \"status\": 400,\r\n",
      "  \"extensions\": {\r\n",
      "    \"traceId\": \"00-d281ea472c04831846701ca05a6859dd-b0d795e6857f6f11-00\"\r\n",
      "  }\r\n",
      "}\n",
      "None\n",
      "\r\n",
      "Checking status , id : 0\n"
     ]
    },
    {
     "name": "stderr",
     "output_type": "stream",
     "text": [
      "C:\\Users\\deepasaw\\Anaconda3\\lib\\site-packages\\urllib3\\connectionpool.py:1013: InsecureRequestWarning: Unverified HTTPS request is being made to host 'eastus.customvoice.api.speech.microsoft.com'. Adding certificate verification is strongly advised. See: https://urllib3.readthedocs.io/en/latest/advanced-usage.html#ssl-warnings\n",
      "  warnings.warn(\n"
     ]
    },
    {
     "name": "stdout",
     "output_type": "stream",
     "text": [
      "getSubmittedSyntheses with ID request failed\n",
      "response.status_code: 400\n",
      "response.text: {\r\n",
      "  \"errors\": {\r\n",
      "    \"id\": [\r\n",
      "      \"The value '0' is not valid.\"\r\n",
      "    ]\r\n",
      "  },\r\n",
      "  \"type\": \"https://tools.ietf.org/html/rfc7231#section-6.5.1\",\r\n",
      "  \"title\": \"One or more validation errors occurred.\",\r\n",
      "  \"status\": 400,\r\n",
      "  \"extensions\": {\r\n",
      "    \"traceId\": \"00-df060237ea1e32e0e70f31c9da8232eb-393728bf71508b54-00\"\r\n",
      "  }\r\n",
      "}\n",
      "None\n",
      "\r\n",
      "Checking status , id : 0\n"
     ]
    },
    {
     "name": "stderr",
     "output_type": "stream",
     "text": [
      "C:\\Users\\deepasaw\\Anaconda3\\lib\\site-packages\\urllib3\\connectionpool.py:1013: InsecureRequestWarning: Unverified HTTPS request is being made to host 'eastus.customvoice.api.speech.microsoft.com'. Adding certificate verification is strongly advised. See: https://urllib3.readthedocs.io/en/latest/advanced-usage.html#ssl-warnings\n",
      "  warnings.warn(\n"
     ]
    },
    {
     "name": "stdout",
     "output_type": "stream",
     "text": [
      "getSubmittedSyntheses with ID request failed\n",
      "response.status_code: 400\n",
      "response.text: {\r\n",
      "  \"errors\": {\r\n",
      "    \"id\": [\r\n",
      "      \"The value '0' is not valid.\"\r\n",
      "    ]\r\n",
      "  },\r\n",
      "  \"type\": \"https://tools.ietf.org/html/rfc7231#section-6.5.1\",\r\n",
      "  \"title\": \"One or more validation errors occurred.\",\r\n",
      "  \"status\": 400,\r\n",
      "  \"extensions\": {\r\n",
      "    \"traceId\": \"00-d0ddfb43b73075ea69f210747673c994-75d03d9b51419df1-00\"\r\n",
      "  }\r\n",
      "}\n",
      "None\n",
      "\r\n",
      "Checking status , id : 0\n"
     ]
    },
    {
     "name": "stderr",
     "output_type": "stream",
     "text": [
      "C:\\Users\\deepasaw\\Anaconda3\\lib\\site-packages\\urllib3\\connectionpool.py:1013: InsecureRequestWarning: Unverified HTTPS request is being made to host 'eastus.customvoice.api.speech.microsoft.com'. Adding certificate verification is strongly advised. See: https://urllib3.readthedocs.io/en/latest/advanced-usage.html#ssl-warnings\n",
      "  warnings.warn(\n"
     ]
    },
    {
     "name": "stdout",
     "output_type": "stream",
     "text": [
      "getSubmittedSyntheses with ID request failed\n",
      "response.status_code: 400\n",
      "response.text: {\r\n",
      "  \"errors\": {\r\n",
      "    \"id\": [\r\n",
      "      \"The value '0' is not valid.\"\r\n",
      "    ]\r\n",
      "  },\r\n",
      "  \"type\": \"https://tools.ietf.org/html/rfc7231#section-6.5.1\",\r\n",
      "  \"title\": \"One or more validation errors occurred.\",\r\n",
      "  \"status\": 400,\r\n",
      "  \"extensions\": {\r\n",
      "    \"traceId\": \"00-e951f750372914ca6f75faf3c0ac9a7c-8ae8bc452a304674-00\"\r\n",
      "  }\r\n",
      "}\n",
      "None\n",
      "\r\n",
      "Checking status , id : 0\n"
     ]
    },
    {
     "name": "stderr",
     "output_type": "stream",
     "text": [
      "C:\\Users\\deepasaw\\Anaconda3\\lib\\site-packages\\urllib3\\connectionpool.py:1013: InsecureRequestWarning: Unverified HTTPS request is being made to host 'eastus.customvoice.api.speech.microsoft.com'. Adding certificate verification is strongly advised. See: https://urllib3.readthedocs.io/en/latest/advanced-usage.html#ssl-warnings\n",
      "  warnings.warn(\n"
     ]
    },
    {
     "name": "stdout",
     "output_type": "stream",
     "text": [
      "getSubmittedSyntheses with ID request failed\n",
      "response.status_code: 400\n",
      "response.text: {\r\n",
      "  \"errors\": {\r\n",
      "    \"id\": [\r\n",
      "      \"The value '0' is not valid.\"\r\n",
      "    ]\r\n",
      "  },\r\n",
      "  \"type\": \"https://tools.ietf.org/html/rfc7231#section-6.5.1\",\r\n",
      "  \"title\": \"One or more validation errors occurred.\",\r\n",
      "  \"status\": 400,\r\n",
      "  \"extensions\": {\r\n",
      "    \"traceId\": \"00-8af017486a4f0f985a3480fe2dde5cb8-e4eb37b62762dfeb-00\"\r\n",
      "  }\r\n",
      "}\n",
      "None\n",
      "\r\n",
      "Checking status , id : 0\n"
     ]
    },
    {
     "name": "stderr",
     "output_type": "stream",
     "text": [
      "C:\\Users\\deepasaw\\Anaconda3\\lib\\site-packages\\urllib3\\connectionpool.py:1013: InsecureRequestWarning: Unverified HTTPS request is being made to host 'eastus.customvoice.api.speech.microsoft.com'. Adding certificate verification is strongly advised. See: https://urllib3.readthedocs.io/en/latest/advanced-usage.html#ssl-warnings\n",
      "  warnings.warn(\n"
     ]
    },
    {
     "name": "stdout",
     "output_type": "stream",
     "text": [
      "getSubmittedSyntheses with ID request failed\n",
      "response.status_code: 400\n",
      "response.text: {\r\n",
      "  \"errors\": {\r\n",
      "    \"id\": [\r\n",
      "      \"The value '0' is not valid.\"\r\n",
      "    ]\r\n",
      "  },\r\n",
      "  \"type\": \"https://tools.ietf.org/html/rfc7231#section-6.5.1\",\r\n",
      "  \"title\": \"One or more validation errors occurred.\",\r\n",
      "  \"status\": 400,\r\n",
      "  \"extensions\": {\r\n",
      "    \"traceId\": \"00-acab719eeeb4cb17ab7bd7f76cc70104-0ae8e6584da2b1f2-00\"\r\n",
      "  }\r\n",
      "}\n",
      "None\n",
      "\r\n",
      "Checking status , id : 0\n"
     ]
    },
    {
     "name": "stderr",
     "output_type": "stream",
     "text": [
      "C:\\Users\\deepasaw\\Anaconda3\\lib\\site-packages\\urllib3\\connectionpool.py:1013: InsecureRequestWarning: Unverified HTTPS request is being made to host 'eastus.customvoice.api.speech.microsoft.com'. Adding certificate verification is strongly advised. See: https://urllib3.readthedocs.io/en/latest/advanced-usage.html#ssl-warnings\n",
      "  warnings.warn(\n"
     ]
    },
    {
     "name": "stdout",
     "output_type": "stream",
     "text": [
      "getSubmittedSyntheses with ID request failed\n",
      "response.status_code: 400\n",
      "response.text: {\r\n",
      "  \"errors\": {\r\n",
      "    \"id\": [\r\n",
      "      \"The value '0' is not valid.\"\r\n",
      "    ]\r\n",
      "  },\r\n",
      "  \"type\": \"https://tools.ietf.org/html/rfc7231#section-6.5.1\",\r\n",
      "  \"title\": \"One or more validation errors occurred.\",\r\n",
      "  \"status\": 400,\r\n",
      "  \"extensions\": {\r\n",
      "    \"traceId\": \"00-9b0917f3288c83f0fcad49e6ec87065b-9295368802038a5c-00\"\r\n",
      "  }\r\n",
      "}\n",
      "None\n",
      "\r\n",
      "Checking status , id : 0\n"
     ]
    },
    {
     "name": "stderr",
     "output_type": "stream",
     "text": [
      "C:\\Users\\deepasaw\\Anaconda3\\lib\\site-packages\\urllib3\\connectionpool.py:1013: InsecureRequestWarning: Unverified HTTPS request is being made to host 'eastus.customvoice.api.speech.microsoft.com'. Adding certificate verification is strongly advised. See: https://urllib3.readthedocs.io/en/latest/advanced-usage.html#ssl-warnings\n",
      "  warnings.warn(\n"
     ]
    },
    {
     "name": "stdout",
     "output_type": "stream",
     "text": [
      "getSubmittedSyntheses with ID request failed\n",
      "response.status_code: 400\n",
      "response.text: {\r\n",
      "  \"errors\": {\r\n",
      "    \"id\": [\r\n",
      "      \"The value '0' is not valid.\"\r\n",
      "    ]\r\n",
      "  },\r\n",
      "  \"type\": \"https://tools.ietf.org/html/rfc7231#section-6.5.1\",\r\n",
      "  \"title\": \"One or more validation errors occurred.\",\r\n",
      "  \"status\": 400,\r\n",
      "  \"extensions\": {\r\n",
      "    \"traceId\": \"00-68e814eff44a71ae322cb76d5deacfc6-9b89bf06ae3265c8-00\"\r\n",
      "  }\r\n",
      "}\n",
      "None\n",
      "\r\n",
      "Checking status , id : 0\n"
     ]
    },
    {
     "name": "stderr",
     "output_type": "stream",
     "text": [
      "C:\\Users\\deepasaw\\Anaconda3\\lib\\site-packages\\urllib3\\connectionpool.py:1013: InsecureRequestWarning: Unverified HTTPS request is being made to host 'eastus.customvoice.api.speech.microsoft.com'. Adding certificate verification is strongly advised. See: https://urllib3.readthedocs.io/en/latest/advanced-usage.html#ssl-warnings\n",
      "  warnings.warn(\n"
     ]
    },
    {
     "name": "stdout",
     "output_type": "stream",
     "text": [
      "getSubmittedSyntheses with ID request failed\n",
      "response.status_code: 400\n",
      "response.text: {\r\n",
      "  \"errors\": {\r\n",
      "    \"id\": [\r\n",
      "      \"The value '0' is not valid.\"\r\n",
      "    ]\r\n",
      "  },\r\n",
      "  \"type\": \"https://tools.ietf.org/html/rfc7231#section-6.5.1\",\r\n",
      "  \"title\": \"One or more validation errors occurred.\",\r\n",
      "  \"status\": 400,\r\n",
      "  \"extensions\": {\r\n",
      "    \"traceId\": \"00-582c2c40116cf87499ab4dd16f11b667-07c3f8d4d6357ae7-00\"\r\n",
      "  }\r\n",
      "}\n",
      "None\n",
      "\r\n",
      "Checking status , id : 0\n"
     ]
    },
    {
     "name": "stderr",
     "output_type": "stream",
     "text": [
      "C:\\Users\\deepasaw\\Anaconda3\\lib\\site-packages\\urllib3\\connectionpool.py:1013: InsecureRequestWarning: Unverified HTTPS request is being made to host 'eastus.customvoice.api.speech.microsoft.com'. Adding certificate verification is strongly advised. See: https://urllib3.readthedocs.io/en/latest/advanced-usage.html#ssl-warnings\n",
      "  warnings.warn(\n"
     ]
    },
    {
     "name": "stdout",
     "output_type": "stream",
     "text": [
      "getSubmittedSyntheses with ID request failed\n",
      "response.status_code: 400\n",
      "response.text: {\r\n",
      "  \"errors\": {\r\n",
      "    \"id\": [\r\n",
      "      \"The value '0' is not valid.\"\r\n",
      "    ]\r\n",
      "  },\r\n",
      "  \"type\": \"https://tools.ietf.org/html/rfc7231#section-6.5.1\",\r\n",
      "  \"title\": \"One or more validation errors occurred.\",\r\n",
      "  \"status\": 400,\r\n",
      "  \"extensions\": {\r\n",
      "    \"traceId\": \"00-891921a44420d8db34e7e2839fe6d53e-f42c686e8a3a8c08-00\"\r\n",
      "  }\r\n",
      "}\n",
      "None\n",
      "\r\n",
      "Checking status , id : 0\n"
     ]
    },
    {
     "name": "stderr",
     "output_type": "stream",
     "text": [
      "C:\\Users\\deepasaw\\Anaconda3\\lib\\site-packages\\urllib3\\connectionpool.py:1013: InsecureRequestWarning: Unverified HTTPS request is being made to host 'eastus.customvoice.api.speech.microsoft.com'. Adding certificate verification is strongly advised. See: https://urllib3.readthedocs.io/en/latest/advanced-usage.html#ssl-warnings\n",
      "  warnings.warn(\n"
     ]
    },
    {
     "name": "stdout",
     "output_type": "stream",
     "text": [
      "getSubmittedSyntheses with ID request failed\n",
      "response.status_code: 400\n",
      "response.text: {\r\n",
      "  \"errors\": {\r\n",
      "    \"id\": [\r\n",
      "      \"The value '0' is not valid.\"\r\n",
      "    ]\r\n",
      "  },\r\n",
      "  \"type\": \"https://tools.ietf.org/html/rfc7231#section-6.5.1\",\r\n",
      "  \"title\": \"One or more validation errors occurred.\",\r\n",
      "  \"status\": 400,\r\n",
      "  \"extensions\": {\r\n",
      "    \"traceId\": \"00-2943bb72e5336d1b4f58851604482e3c-60a31c76a9ef90bd-00\"\r\n",
      "  }\r\n",
      "}\n",
      "None\n",
      "\r\n",
      "Checking status , id : 0\n"
     ]
    },
    {
     "name": "stderr",
     "output_type": "stream",
     "text": [
      "C:\\Users\\deepasaw\\Anaconda3\\lib\\site-packages\\urllib3\\connectionpool.py:1013: InsecureRequestWarning: Unverified HTTPS request is being made to host 'eastus.customvoice.api.speech.microsoft.com'. Adding certificate verification is strongly advised. See: https://urllib3.readthedocs.io/en/latest/advanced-usage.html#ssl-warnings\n",
      "  warnings.warn(\n"
     ]
    },
    {
     "name": "stdout",
     "output_type": "stream",
     "text": [
      "getSubmittedSyntheses with ID request failed\n",
      "response.status_code: 400\n",
      "response.text: {\r\n",
      "  \"errors\": {\r\n",
      "    \"id\": [\r\n",
      "      \"The value '0' is not valid.\"\r\n",
      "    ]\r\n",
      "  },\r\n",
      "  \"type\": \"https://tools.ietf.org/html/rfc7231#section-6.5.1\",\r\n",
      "  \"title\": \"One or more validation errors occurred.\",\r\n",
      "  \"status\": 400,\r\n",
      "  \"extensions\": {\r\n",
      "    \"traceId\": \"00-e9767617f0c08df296debc2fe532f915-3f8d4cff720e7967-00\"\r\n",
      "  }\r\n",
      "}\n",
      "None\n",
      "\r\n",
      "Checking status , id : 0\n"
     ]
    },
    {
     "name": "stderr",
     "output_type": "stream",
     "text": [
      "C:\\Users\\deepasaw\\Anaconda3\\lib\\site-packages\\urllib3\\connectionpool.py:1013: InsecureRequestWarning: Unverified HTTPS request is being made to host 'eastus.customvoice.api.speech.microsoft.com'. Adding certificate verification is strongly advised. See: https://urllib3.readthedocs.io/en/latest/advanced-usage.html#ssl-warnings\n",
      "  warnings.warn(\n"
     ]
    },
    {
     "name": "stdout",
     "output_type": "stream",
     "text": [
      "getSubmittedSyntheses with ID request failed\n",
      "response.status_code: 400\n",
      "response.text: {\r\n",
      "  \"errors\": {\r\n",
      "    \"id\": [\r\n",
      "      \"The value '0' is not valid.\"\r\n",
      "    ]\r\n",
      "  },\r\n",
      "  \"type\": \"https://tools.ietf.org/html/rfc7231#section-6.5.1\",\r\n",
      "  \"title\": \"One or more validation errors occurred.\",\r\n",
      "  \"status\": 400,\r\n",
      "  \"extensions\": {\r\n",
      "    \"traceId\": \"00-35483e55c5bb2aee09be4b4ca7f767da-2837ff6ecbbdc246-00\"\r\n",
      "  }\r\n",
      "}\n",
      "None\n",
      "\r\n",
      "Checking status , id : 0\n"
     ]
    },
    {
     "name": "stderr",
     "output_type": "stream",
     "text": [
      "C:\\Users\\deepasaw\\Anaconda3\\lib\\site-packages\\urllib3\\connectionpool.py:1013: InsecureRequestWarning: Unverified HTTPS request is being made to host 'eastus.customvoice.api.speech.microsoft.com'. Adding certificate verification is strongly advised. See: https://urllib3.readthedocs.io/en/latest/advanced-usage.html#ssl-warnings\n",
      "  warnings.warn(\n"
     ]
    },
    {
     "name": "stdout",
     "output_type": "stream",
     "text": [
      "getSubmittedSyntheses with ID request failed\n",
      "response.status_code: 400\n",
      "response.text: {\r\n",
      "  \"errors\": {\r\n",
      "    \"id\": [\r\n",
      "      \"The value '0' is not valid.\"\r\n",
      "    ]\r\n",
      "  },\r\n",
      "  \"type\": \"https://tools.ietf.org/html/rfc7231#section-6.5.1\",\r\n",
      "  \"title\": \"One or more validation errors occurred.\",\r\n",
      "  \"status\": 400,\r\n",
      "  \"extensions\": {\r\n",
      "    \"traceId\": \"00-4fe2538d68d7e6d60589aff1f02e3113-d34d76736d01240b-00\"\r\n",
      "  }\r\n",
      "}\n",
      "None\n",
      "\r\n",
      "Checking status , id : 0\n"
     ]
    },
    {
     "name": "stderr",
     "output_type": "stream",
     "text": [
      "C:\\Users\\deepasaw\\Anaconda3\\lib\\site-packages\\urllib3\\connectionpool.py:1013: InsecureRequestWarning: Unverified HTTPS request is being made to host 'eastus.customvoice.api.speech.microsoft.com'. Adding certificate verification is strongly advised. See: https://urllib3.readthedocs.io/en/latest/advanced-usage.html#ssl-warnings\n",
      "  warnings.warn(\n"
     ]
    },
    {
     "name": "stdout",
     "output_type": "stream",
     "text": [
      "getSubmittedSyntheses with ID request failed\n",
      "response.status_code: 400\n",
      "response.text: {\r\n",
      "  \"errors\": {\r\n",
      "    \"id\": [\r\n",
      "      \"The value '0' is not valid.\"\r\n",
      "    ]\r\n",
      "  },\r\n",
      "  \"type\": \"https://tools.ietf.org/html/rfc7231#section-6.5.1\",\r\n",
      "  \"title\": \"One or more validation errors occurred.\",\r\n",
      "  \"status\": 400,\r\n",
      "  \"extensions\": {\r\n",
      "    \"traceId\": \"00-7f401039f3795b59bb792cbd3788a66a-9eee8c76e5738153-00\"\r\n",
      "  }\r\n",
      "}\n",
      "None\n",
      "\r\n",
      "Checking status , id : 0\n"
     ]
    },
    {
     "name": "stderr",
     "output_type": "stream",
     "text": [
      "C:\\Users\\deepasaw\\Anaconda3\\lib\\site-packages\\urllib3\\connectionpool.py:1013: InsecureRequestWarning: Unverified HTTPS request is being made to host 'eastus.customvoice.api.speech.microsoft.com'. Adding certificate verification is strongly advised. See: https://urllib3.readthedocs.io/en/latest/advanced-usage.html#ssl-warnings\n",
      "  warnings.warn(\n"
     ]
    },
    {
     "name": "stdout",
     "output_type": "stream",
     "text": [
      "getSubmittedSyntheses with ID request failed\n",
      "response.status_code: 400\n",
      "response.text: {\r\n",
      "  \"errors\": {\r\n",
      "    \"id\": [\r\n",
      "      \"The value '0' is not valid.\"\r\n",
      "    ]\r\n",
      "  },\r\n",
      "  \"type\": \"https://tools.ietf.org/html/rfc7231#section-6.5.1\",\r\n",
      "  \"title\": \"One or more validation errors occurred.\",\r\n",
      "  \"status\": 400,\r\n",
      "  \"extensions\": {\r\n",
      "    \"traceId\": \"00-e186bf23d269875a86c93f1ad36b300c-5d835ed070345d0d-00\"\r\n",
      "  }\r\n",
      "}\n",
      "None\n",
      "\r\n",
      "Checking status , id : 0\n"
     ]
    },
    {
     "name": "stderr",
     "output_type": "stream",
     "text": [
      "C:\\Users\\deepasaw\\Anaconda3\\lib\\site-packages\\urllib3\\connectionpool.py:1013: InsecureRequestWarning: Unverified HTTPS request is being made to host 'eastus.customvoice.api.speech.microsoft.com'. Adding certificate verification is strongly advised. See: https://urllib3.readthedocs.io/en/latest/advanced-usage.html#ssl-warnings\n",
      "  warnings.warn(\n"
     ]
    },
    {
     "name": "stdout",
     "output_type": "stream",
     "text": [
      "getSubmittedSyntheses with ID request failed\n",
      "response.status_code: 400\n",
      "response.text: {\r\n",
      "  \"errors\": {\r\n",
      "    \"id\": [\r\n",
      "      \"The value '0' is not valid.\"\r\n",
      "    ]\r\n",
      "  },\r\n",
      "  \"type\": \"https://tools.ietf.org/html/rfc7231#section-6.5.1\",\r\n",
      "  \"title\": \"One or more validation errors occurred.\",\r\n",
      "  \"status\": 400,\r\n",
      "  \"extensions\": {\r\n",
      "    \"traceId\": \"00-24c5e1ddd3d75086f0a8ab92298ef906-ca5ebbc3deaf7ef3-00\"\r\n",
      "  }\r\n",
      "}\n",
      "None\n",
      "\r\n",
      "Checking status , id : 0\n"
     ]
    },
    {
     "name": "stderr",
     "output_type": "stream",
     "text": [
      "C:\\Users\\deepasaw\\Anaconda3\\lib\\site-packages\\urllib3\\connectionpool.py:1013: InsecureRequestWarning: Unverified HTTPS request is being made to host 'eastus.customvoice.api.speech.microsoft.com'. Adding certificate verification is strongly advised. See: https://urllib3.readthedocs.io/en/latest/advanced-usage.html#ssl-warnings\n",
      "  warnings.warn(\n"
     ]
    },
    {
     "name": "stdout",
     "output_type": "stream",
     "text": [
      "getSubmittedSyntheses with ID request failed\n",
      "response.status_code: 400\n",
      "response.text: {\r\n",
      "  \"errors\": {\r\n",
      "    \"id\": [\r\n",
      "      \"The value '0' is not valid.\"\r\n",
      "    ]\r\n",
      "  },\r\n",
      "  \"type\": \"https://tools.ietf.org/html/rfc7231#section-6.5.1\",\r\n",
      "  \"title\": \"One or more validation errors occurred.\",\r\n",
      "  \"status\": 400,\r\n",
      "  \"extensions\": {\r\n",
      "    \"traceId\": \"00-586c5b7baf82b1551ceb6a2e3eee02d7-83ba4185b0e44e3b-00\"\r\n",
      "  }\r\n",
      "}\n",
      "None\n",
      "\r\n",
      "Checking status , id : 0\n"
     ]
    },
    {
     "name": "stderr",
     "output_type": "stream",
     "text": [
      "C:\\Users\\deepasaw\\Anaconda3\\lib\\site-packages\\urllib3\\connectionpool.py:1013: InsecureRequestWarning: Unverified HTTPS request is being made to host 'eastus.customvoice.api.speech.microsoft.com'. Adding certificate verification is strongly advised. See: https://urllib3.readthedocs.io/en/latest/advanced-usage.html#ssl-warnings\n",
      "  warnings.warn(\n"
     ]
    },
    {
     "name": "stdout",
     "output_type": "stream",
     "text": [
      "getSubmittedSyntheses with ID request failed\n",
      "response.status_code: 400\n",
      "response.text: {\r\n",
      "  \"errors\": {\r\n",
      "    \"id\": [\r\n",
      "      \"The value '0' is not valid.\"\r\n",
      "    ]\r\n",
      "  },\r\n",
      "  \"type\": \"https://tools.ietf.org/html/rfc7231#section-6.5.1\",\r\n",
      "  \"title\": \"One or more validation errors occurred.\",\r\n",
      "  \"status\": 400,\r\n",
      "  \"extensions\": {\r\n",
      "    \"traceId\": \"00-5e69fd12b3a0a7814a5a5a4648176149-9328e71cc8231486-00\"\r\n",
      "  }\r\n",
      "}\n",
      "None\n",
      "\r\n",
      "Checking status , id : 0\n"
     ]
    },
    {
     "name": "stderr",
     "output_type": "stream",
     "text": [
      "C:\\Users\\deepasaw\\Anaconda3\\lib\\site-packages\\urllib3\\connectionpool.py:1013: InsecureRequestWarning: Unverified HTTPS request is being made to host 'eastus.customvoice.api.speech.microsoft.com'. Adding certificate verification is strongly advised. See: https://urllib3.readthedocs.io/en/latest/advanced-usage.html#ssl-warnings\n",
      "  warnings.warn(\n"
     ]
    },
    {
     "name": "stdout",
     "output_type": "stream",
     "text": [
      "getSubmittedSyntheses with ID request failed\n",
      "response.status_code: 400\n",
      "response.text: {\r\n",
      "  \"errors\": {\r\n",
      "    \"id\": [\r\n",
      "      \"The value '0' is not valid.\"\r\n",
      "    ]\r\n",
      "  },\r\n",
      "  \"type\": \"https://tools.ietf.org/html/rfc7231#section-6.5.1\",\r\n",
      "  \"title\": \"One or more validation errors occurred.\",\r\n",
      "  \"status\": 400,\r\n",
      "  \"extensions\": {\r\n",
      "    \"traceId\": \"00-aaea2b3f61648d3f3524e31c4d65f019-a28e9b6b839c32ba-00\"\r\n",
      "  }\r\n",
      "}\n",
      "None\n",
      "\r\n",
      "Checking status , id : 0\n"
     ]
    },
    {
     "name": "stderr",
     "output_type": "stream",
     "text": [
      "C:\\Users\\deepasaw\\Anaconda3\\lib\\site-packages\\urllib3\\connectionpool.py:1013: InsecureRequestWarning: Unverified HTTPS request is being made to host 'eastus.customvoice.api.speech.microsoft.com'. Adding certificate verification is strongly advised. See: https://urllib3.readthedocs.io/en/latest/advanced-usage.html#ssl-warnings\n",
      "  warnings.warn(\n"
     ]
    },
    {
     "name": "stdout",
     "output_type": "stream",
     "text": [
      "getSubmittedSyntheses with ID request failed\n",
      "response.status_code: 400\n",
      "response.text: {\r\n",
      "  \"errors\": {\r\n",
      "    \"id\": [\r\n",
      "      \"The value '0' is not valid.\"\r\n",
      "    ]\r\n",
      "  },\r\n",
      "  \"type\": \"https://tools.ietf.org/html/rfc7231#section-6.5.1\",\r\n",
      "  \"title\": \"One or more validation errors occurred.\",\r\n",
      "  \"status\": 400,\r\n",
      "  \"extensions\": {\r\n",
      "    \"traceId\": \"00-b9fa82e9f5ae55a974ac7dca8fad776f-b5d1d0883bdddd1d-00\"\r\n",
      "  }\r\n",
      "}\n",
      "None\n",
      "\r\n",
      "Checking status , id : 0\n"
     ]
    },
    {
     "name": "stderr",
     "output_type": "stream",
     "text": [
      "C:\\Users\\deepasaw\\Anaconda3\\lib\\site-packages\\urllib3\\connectionpool.py:1013: InsecureRequestWarning: Unverified HTTPS request is being made to host 'eastus.customvoice.api.speech.microsoft.com'. Adding certificate verification is strongly advised. See: https://urllib3.readthedocs.io/en/latest/advanced-usage.html#ssl-warnings\n",
      "  warnings.warn(\n"
     ]
    },
    {
     "name": "stdout",
     "output_type": "stream",
     "text": [
      "getSubmittedSyntheses with ID request failed\n",
      "response.status_code: 400\n",
      "response.text: {\r\n",
      "  \"errors\": {\r\n",
      "    \"id\": [\r\n",
      "      \"The value '0' is not valid.\"\r\n",
      "    ]\r\n",
      "  },\r\n",
      "  \"type\": \"https://tools.ietf.org/html/rfc7231#section-6.5.1\",\r\n",
      "  \"title\": \"One or more validation errors occurred.\",\r\n",
      "  \"status\": 400,\r\n",
      "  \"extensions\": {\r\n",
      "    \"traceId\": \"00-30646b37b7e48316c8cb81ea5f5a7b78-eabc2ff145f9fc59-00\"\r\n",
      "  }\r\n",
      "}\n",
      "None\n",
      "\r\n",
      "Checking status , id : 0\n"
     ]
    },
    {
     "name": "stderr",
     "output_type": "stream",
     "text": [
      "C:\\Users\\deepasaw\\Anaconda3\\lib\\site-packages\\urllib3\\connectionpool.py:1013: InsecureRequestWarning: Unverified HTTPS request is being made to host 'eastus.customvoice.api.speech.microsoft.com'. Adding certificate verification is strongly advised. See: https://urllib3.readthedocs.io/en/latest/advanced-usage.html#ssl-warnings\n",
      "  warnings.warn(\n"
     ]
    },
    {
     "name": "stdout",
     "output_type": "stream",
     "text": [
      "getSubmittedSyntheses with ID request failed\n",
      "response.status_code: 400\n",
      "response.text: {\r\n",
      "  \"errors\": {\r\n",
      "    \"id\": [\r\n",
      "      \"The value '0' is not valid.\"\r\n",
      "    ]\r\n",
      "  },\r\n",
      "  \"type\": \"https://tools.ietf.org/html/rfc7231#section-6.5.1\",\r\n",
      "  \"title\": \"One or more validation errors occurred.\",\r\n",
      "  \"status\": 400,\r\n",
      "  \"extensions\": {\r\n",
      "    \"traceId\": \"00-8c62af31601aa55e16981b5b8400c57c-41a5ea50baa6c795-00\"\r\n",
      "  }\r\n",
      "}\n",
      "None\n",
      "\r\n",
      "Checking status , id : 0\n"
     ]
    },
    {
     "name": "stderr",
     "output_type": "stream",
     "text": [
      "C:\\Users\\deepasaw\\Anaconda3\\lib\\site-packages\\urllib3\\connectionpool.py:1013: InsecureRequestWarning: Unverified HTTPS request is being made to host 'eastus.customvoice.api.speech.microsoft.com'. Adding certificate verification is strongly advised. See: https://urllib3.readthedocs.io/en/latest/advanced-usage.html#ssl-warnings\n",
      "  warnings.warn(\n"
     ]
    },
    {
     "name": "stdout",
     "output_type": "stream",
     "text": [
      "getSubmittedSyntheses with ID request failed\n",
      "response.status_code: 400\n",
      "response.text: {\r\n",
      "  \"errors\": {\r\n",
      "    \"id\": [\r\n",
      "      \"The value '0' is not valid.\"\r\n",
      "    ]\r\n",
      "  },\r\n",
      "  \"type\": \"https://tools.ietf.org/html/rfc7231#section-6.5.1\",\r\n",
      "  \"title\": \"One or more validation errors occurred.\",\r\n",
      "  \"status\": 400,\r\n",
      "  \"extensions\": {\r\n",
      "    \"traceId\": \"00-2051ba9b229c87ec133b5bf4c2f3ec06-9b76b88a5e7549a9-00\"\r\n",
      "  }\r\n",
      "}\n",
      "None\n",
      "\r\n",
      "Checking status , id : 0\n"
     ]
    },
    {
     "name": "stderr",
     "output_type": "stream",
     "text": [
      "C:\\Users\\deepasaw\\Anaconda3\\lib\\site-packages\\urllib3\\connectionpool.py:1013: InsecureRequestWarning: Unverified HTTPS request is being made to host 'eastus.customvoice.api.speech.microsoft.com'. Adding certificate verification is strongly advised. See: https://urllib3.readthedocs.io/en/latest/advanced-usage.html#ssl-warnings\n",
      "  warnings.warn(\n"
     ]
    },
    {
     "name": "stdout",
     "output_type": "stream",
     "text": [
      "getSubmittedSyntheses with ID request failed\n",
      "response.status_code: 400\n",
      "response.text: {\r\n",
      "  \"errors\": {\r\n",
      "    \"id\": [\r\n",
      "      \"The value '0' is not valid.\"\r\n",
      "    ]\r\n",
      "  },\r\n",
      "  \"type\": \"https://tools.ietf.org/html/rfc7231#section-6.5.1\",\r\n",
      "  \"title\": \"One or more validation errors occurred.\",\r\n",
      "  \"status\": 400,\r\n",
      "  \"extensions\": {\r\n",
      "    \"traceId\": \"00-e1d59e86fbf6792cec89b851220f473d-54620ceaa9c290db-00\"\r\n",
      "  }\r\n",
      "}\n",
      "None\n",
      "\r\n",
      "Checking status , id : 0\n"
     ]
    },
    {
     "name": "stderr",
     "output_type": "stream",
     "text": [
      "C:\\Users\\deepasaw\\Anaconda3\\lib\\site-packages\\urllib3\\connectionpool.py:1013: InsecureRequestWarning: Unverified HTTPS request is being made to host 'eastus.customvoice.api.speech.microsoft.com'. Adding certificate verification is strongly advised. See: https://urllib3.readthedocs.io/en/latest/advanced-usage.html#ssl-warnings\n",
      "  warnings.warn(\n"
     ]
    },
    {
     "name": "stdout",
     "output_type": "stream",
     "text": [
      "getSubmittedSyntheses with ID request failed\n",
      "response.status_code: 400\n",
      "response.text: {\r\n",
      "  \"errors\": {\r\n",
      "    \"id\": [\r\n",
      "      \"The value '0' is not valid.\"\r\n",
      "    ]\r\n",
      "  },\r\n",
      "  \"type\": \"https://tools.ietf.org/html/rfc7231#section-6.5.1\",\r\n",
      "  \"title\": \"One or more validation errors occurred.\",\r\n",
      "  \"status\": 400,\r\n",
      "  \"extensions\": {\r\n",
      "    \"traceId\": \"00-a4edffb56c9bf937c0ddfeceb7ed5e08-d75243068b1a8da4-00\"\r\n",
      "  }\r\n",
      "}\n",
      "None\n",
      "\r\n",
      "Checking status , id : 0\n"
     ]
    },
    {
     "name": "stderr",
     "output_type": "stream",
     "text": [
      "C:\\Users\\deepasaw\\Anaconda3\\lib\\site-packages\\urllib3\\connectionpool.py:1013: InsecureRequestWarning: Unverified HTTPS request is being made to host 'eastus.customvoice.api.speech.microsoft.com'. Adding certificate verification is strongly advised. See: https://urllib3.readthedocs.io/en/latest/advanced-usage.html#ssl-warnings\n",
      "  warnings.warn(\n"
     ]
    },
    {
     "name": "stdout",
     "output_type": "stream",
     "text": [
      "getSubmittedSyntheses with ID request failed\n",
      "response.status_code: 400\n",
      "response.text: {\r\n",
      "  \"errors\": {\r\n",
      "    \"id\": [\r\n",
      "      \"The value '0' is not valid.\"\r\n",
      "    ]\r\n",
      "  },\r\n",
      "  \"type\": \"https://tools.ietf.org/html/rfc7231#section-6.5.1\",\r\n",
      "  \"title\": \"One or more validation errors occurred.\",\r\n",
      "  \"status\": 400,\r\n",
      "  \"extensions\": {\r\n",
      "    \"traceId\": \"00-e44aa0aa3037dc5f027115c88fca028f-85f3c4d33dd2a220-00\"\r\n",
      "  }\r\n",
      "}\n",
      "None\n",
      "\r\n",
      "Checking status , id : 0\n"
     ]
    },
    {
     "name": "stderr",
     "output_type": "stream",
     "text": [
      "C:\\Users\\deepasaw\\Anaconda3\\lib\\site-packages\\urllib3\\connectionpool.py:1013: InsecureRequestWarning: Unverified HTTPS request is being made to host 'eastus.customvoice.api.speech.microsoft.com'. Adding certificate verification is strongly advised. See: https://urllib3.readthedocs.io/en/latest/advanced-usage.html#ssl-warnings\n",
      "  warnings.warn(\n"
     ]
    },
    {
     "name": "stdout",
     "output_type": "stream",
     "text": [
      "getSubmittedSyntheses with ID request failed\n",
      "response.status_code: 400\n",
      "response.text: {\r\n",
      "  \"errors\": {\r\n",
      "    \"id\": [\r\n",
      "      \"The value '0' is not valid.\"\r\n",
      "    ]\r\n",
      "  },\r\n",
      "  \"type\": \"https://tools.ietf.org/html/rfc7231#section-6.5.1\",\r\n",
      "  \"title\": \"One or more validation errors occurred.\",\r\n",
      "  \"status\": 400,\r\n",
      "  \"extensions\": {\r\n",
      "    \"traceId\": \"00-657a386e065464f1321b48e12a6ec59a-29d8f1d3011126d8-00\"\r\n",
      "  }\r\n",
      "}\n",
      "None\n",
      "\r\n",
      "Checking status , id : 0\n"
     ]
    },
    {
     "name": "stderr",
     "output_type": "stream",
     "text": [
      "C:\\Users\\deepasaw\\Anaconda3\\lib\\site-packages\\urllib3\\connectionpool.py:1013: InsecureRequestWarning: Unverified HTTPS request is being made to host 'eastus.customvoice.api.speech.microsoft.com'. Adding certificate verification is strongly advised. See: https://urllib3.readthedocs.io/en/latest/advanced-usage.html#ssl-warnings\n",
      "  warnings.warn(\n"
     ]
    },
    {
     "name": "stdout",
     "output_type": "stream",
     "text": [
      "getSubmittedSyntheses with ID request failed\n",
      "response.status_code: 400\n",
      "response.text: {\r\n",
      "  \"errors\": {\r\n",
      "    \"id\": [\r\n",
      "      \"The value '0' is not valid.\"\r\n",
      "    ]\r\n",
      "  },\r\n",
      "  \"type\": \"https://tools.ietf.org/html/rfc7231#section-6.5.1\",\r\n",
      "  \"title\": \"One or more validation errors occurred.\",\r\n",
      "  \"status\": 400,\r\n",
      "  \"extensions\": {\r\n",
      "    \"traceId\": \"00-6ef248eb859918a343a92c8f38313579-25cc31983cd28aaa-00\"\r\n",
      "  }\r\n",
      "}\n",
      "None\n",
      "\r\n",
      "Checking status , id : 0\n"
     ]
    },
    {
     "name": "stderr",
     "output_type": "stream",
     "text": [
      "C:\\Users\\deepasaw\\Anaconda3\\lib\\site-packages\\urllib3\\connectionpool.py:1013: InsecureRequestWarning: Unverified HTTPS request is being made to host 'eastus.customvoice.api.speech.microsoft.com'. Adding certificate verification is strongly advised. See: https://urllib3.readthedocs.io/en/latest/advanced-usage.html#ssl-warnings\n",
      "  warnings.warn(\n"
     ]
    },
    {
     "name": "stdout",
     "output_type": "stream",
     "text": [
      "getSubmittedSyntheses with ID request failed\n",
      "response.status_code: 400\n",
      "response.text: {\r\n",
      "  \"errors\": {\r\n",
      "    \"id\": [\r\n",
      "      \"The value '0' is not valid.\"\r\n",
      "    ]\r\n",
      "  },\r\n",
      "  \"type\": \"https://tools.ietf.org/html/rfc7231#section-6.5.1\",\r\n",
      "  \"title\": \"One or more validation errors occurred.\",\r\n",
      "  \"status\": 400,\r\n",
      "  \"extensions\": {\r\n",
      "    \"traceId\": \"00-35f282499029a042f422721955b6947c-b24d3d901cd69305-00\"\r\n",
      "  }\r\n",
      "}\n",
      "None\n",
      "\r\n",
      "Checking status , id : 0\n"
     ]
    },
    {
     "name": "stderr",
     "output_type": "stream",
     "text": [
      "C:\\Users\\deepasaw\\Anaconda3\\lib\\site-packages\\urllib3\\connectionpool.py:1013: InsecureRequestWarning: Unverified HTTPS request is being made to host 'eastus.customvoice.api.speech.microsoft.com'. Adding certificate verification is strongly advised. See: https://urllib3.readthedocs.io/en/latest/advanced-usage.html#ssl-warnings\n",
      "  warnings.warn(\n"
     ]
    },
    {
     "name": "stdout",
     "output_type": "stream",
     "text": [
      "getSubmittedSyntheses with ID request failed\n",
      "response.status_code: 400\n",
      "response.text: {\r\n",
      "  \"errors\": {\r\n",
      "    \"id\": [\r\n",
      "      \"The value '0' is not valid.\"\r\n",
      "    ]\r\n",
      "  },\r\n",
      "  \"type\": \"https://tools.ietf.org/html/rfc7231#section-6.5.1\",\r\n",
      "  \"title\": \"One or more validation errors occurred.\",\r\n",
      "  \"status\": 400,\r\n",
      "  \"extensions\": {\r\n",
      "    \"traceId\": \"00-d5a7fb8f5f154305259a002cc629d7b8-3df32d2c1a82b305-00\"\r\n",
      "  }\r\n",
      "}\n",
      "None\n",
      "\r\n",
      "Checking status , id : 0\n"
     ]
    },
    {
     "name": "stderr",
     "output_type": "stream",
     "text": [
      "C:\\Users\\deepasaw\\Anaconda3\\lib\\site-packages\\urllib3\\connectionpool.py:1013: InsecureRequestWarning: Unverified HTTPS request is being made to host 'eastus.customvoice.api.speech.microsoft.com'. Adding certificate verification is strongly advised. See: https://urllib3.readthedocs.io/en/latest/advanced-usage.html#ssl-warnings\n",
      "  warnings.warn(\n"
     ]
    },
    {
     "name": "stdout",
     "output_type": "stream",
     "text": [
      "getSubmittedSyntheses with ID request failed\n",
      "response.status_code: 400\n",
      "response.text: {\r\n",
      "  \"errors\": {\r\n",
      "    \"id\": [\r\n",
      "      \"The value '0' is not valid.\"\r\n",
      "    ]\r\n",
      "  },\r\n",
      "  \"type\": \"https://tools.ietf.org/html/rfc7231#section-6.5.1\",\r\n",
      "  \"title\": \"One or more validation errors occurred.\",\r\n",
      "  \"status\": 400,\r\n",
      "  \"extensions\": {\r\n",
      "    \"traceId\": \"00-98d0c204448d5999a60b9cb9b273bfb2-e0f916e85b572391-00\"\r\n",
      "  }\r\n",
      "}\n",
      "None\n",
      "\r\n",
      "Checking status , id : 0\n"
     ]
    },
    {
     "name": "stderr",
     "output_type": "stream",
     "text": [
      "C:\\Users\\deepasaw\\Anaconda3\\lib\\site-packages\\urllib3\\connectionpool.py:1013: InsecureRequestWarning: Unverified HTTPS request is being made to host 'eastus.customvoice.api.speech.microsoft.com'. Adding certificate verification is strongly advised. See: https://urllib3.readthedocs.io/en/latest/advanced-usage.html#ssl-warnings\n",
      "  warnings.warn(\n"
     ]
    },
    {
     "name": "stdout",
     "output_type": "stream",
     "text": [
      "getSubmittedSyntheses with ID request failed\n",
      "response.status_code: 400\n",
      "response.text: {\r\n",
      "  \"errors\": {\r\n",
      "    \"id\": [\r\n",
      "      \"The value '0' is not valid.\"\r\n",
      "    ]\r\n",
      "  },\r\n",
      "  \"type\": \"https://tools.ietf.org/html/rfc7231#section-6.5.1\",\r\n",
      "  \"title\": \"One or more validation errors occurred.\",\r\n",
      "  \"status\": 400,\r\n",
      "  \"extensions\": {\r\n",
      "    \"traceId\": \"00-9e7b12ff83d6dafd4dce2da71a77989d-b45c267423b81bc6-00\"\r\n",
      "  }\r\n",
      "}\n",
      "None\n",
      "\r\n",
      "Checking status , id : 0\n"
     ]
    },
    {
     "name": "stderr",
     "output_type": "stream",
     "text": [
      "C:\\Users\\deepasaw\\Anaconda3\\lib\\site-packages\\urllib3\\connectionpool.py:1013: InsecureRequestWarning: Unverified HTTPS request is being made to host 'eastus.customvoice.api.speech.microsoft.com'. Adding certificate verification is strongly advised. See: https://urllib3.readthedocs.io/en/latest/advanced-usage.html#ssl-warnings\n",
      "  warnings.warn(\n"
     ]
    },
    {
     "name": "stdout",
     "output_type": "stream",
     "text": [
      "getSubmittedSyntheses with ID request failed\n",
      "response.status_code: 400\n",
      "response.text: {\r\n",
      "  \"errors\": {\r\n",
      "    \"id\": [\r\n",
      "      \"The value '0' is not valid.\"\r\n",
      "    ]\r\n",
      "  },\r\n",
      "  \"type\": \"https://tools.ietf.org/html/rfc7231#section-6.5.1\",\r\n",
      "  \"title\": \"One or more validation errors occurred.\",\r\n",
      "  \"status\": 400,\r\n",
      "  \"extensions\": {\r\n",
      "    \"traceId\": \"00-6b9791a95856a6b9b18aa7696eb15a13-615f7a72250a7ce6-00\"\r\n",
      "  }\r\n",
      "}\n",
      "None\n",
      "\r\n",
      "Checking status , id : 0\n"
     ]
    },
    {
     "name": "stderr",
     "output_type": "stream",
     "text": [
      "C:\\Users\\deepasaw\\Anaconda3\\lib\\site-packages\\urllib3\\connectionpool.py:1013: InsecureRequestWarning: Unverified HTTPS request is being made to host 'eastus.customvoice.api.speech.microsoft.com'. Adding certificate verification is strongly advised. See: https://urllib3.readthedocs.io/en/latest/advanced-usage.html#ssl-warnings\n",
      "  warnings.warn(\n"
     ]
    },
    {
     "name": "stdout",
     "output_type": "stream",
     "text": [
      "getSubmittedSyntheses with ID request failed\n",
      "response.status_code: 400\n",
      "response.text: {\r\n",
      "  \"errors\": {\r\n",
      "    \"id\": [\r\n",
      "      \"The value '0' is not valid.\"\r\n",
      "    ]\r\n",
      "  },\r\n",
      "  \"type\": \"https://tools.ietf.org/html/rfc7231#section-6.5.1\",\r\n",
      "  \"title\": \"One or more validation errors occurred.\",\r\n",
      "  \"status\": 400,\r\n",
      "  \"extensions\": {\r\n",
      "    \"traceId\": \"00-7e053e0f3ec65ef6cc4106749cd53000-8c146d3309b4e4da-00\"\r\n",
      "  }\r\n",
      "}\n",
      "None\n",
      "\r\n",
      "Checking status , id : 0\n"
     ]
    },
    {
     "name": "stderr",
     "output_type": "stream",
     "text": [
      "C:\\Users\\deepasaw\\Anaconda3\\lib\\site-packages\\urllib3\\connectionpool.py:1013: InsecureRequestWarning: Unverified HTTPS request is being made to host 'eastus.customvoice.api.speech.microsoft.com'. Adding certificate verification is strongly advised. See: https://urllib3.readthedocs.io/en/latest/advanced-usage.html#ssl-warnings\n",
      "  warnings.warn(\n"
     ]
    },
    {
     "name": "stdout",
     "output_type": "stream",
     "text": [
      "getSubmittedSyntheses with ID request failed\n",
      "response.status_code: 400\n",
      "response.text: {\r\n",
      "  \"errors\": {\r\n",
      "    \"id\": [\r\n",
      "      \"The value '0' is not valid.\"\r\n",
      "    ]\r\n",
      "  },\r\n",
      "  \"type\": \"https://tools.ietf.org/html/rfc7231#section-6.5.1\",\r\n",
      "  \"title\": \"One or more validation errors occurred.\",\r\n",
      "  \"status\": 400,\r\n",
      "  \"extensions\": {\r\n",
      "    \"traceId\": \"00-22bb07d2ad79994a2e233321eb6f7e8b-36495d3878bcb2da-00\"\r\n",
      "  }\r\n",
      "}\n",
      "None\n",
      "\r\n",
      "Checking status , id : 0\n"
     ]
    },
    {
     "name": "stderr",
     "output_type": "stream",
     "text": [
      "C:\\Users\\deepasaw\\Anaconda3\\lib\\site-packages\\urllib3\\connectionpool.py:1013: InsecureRequestWarning: Unverified HTTPS request is being made to host 'eastus.customvoice.api.speech.microsoft.com'. Adding certificate verification is strongly advised. See: https://urllib3.readthedocs.io/en/latest/advanced-usage.html#ssl-warnings\n",
      "  warnings.warn(\n"
     ]
    },
    {
     "name": "stdout",
     "output_type": "stream",
     "text": [
      "getSubmittedSyntheses with ID request failed\n",
      "response.status_code: 400\n",
      "response.text: {\r\n",
      "  \"errors\": {\r\n",
      "    \"id\": [\r\n",
      "      \"The value '0' is not valid.\"\r\n",
      "    ]\r\n",
      "  },\r\n",
      "  \"type\": \"https://tools.ietf.org/html/rfc7231#section-6.5.1\",\r\n",
      "  \"title\": \"One or more validation errors occurred.\",\r\n",
      "  \"status\": 400,\r\n",
      "  \"extensions\": {\r\n",
      "    \"traceId\": \"00-76a3215469463e4d31091c20d2cbda0d-a959aa95622ad4bb-00\"\r\n",
      "  }\r\n",
      "}\n",
      "None\n",
      "\r\n",
      "Checking status , id : 0\n"
     ]
    },
    {
     "name": "stderr",
     "output_type": "stream",
     "text": [
      "C:\\Users\\deepasaw\\Anaconda3\\lib\\site-packages\\urllib3\\connectionpool.py:1013: InsecureRequestWarning: Unverified HTTPS request is being made to host 'eastus.customvoice.api.speech.microsoft.com'. Adding certificate verification is strongly advised. See: https://urllib3.readthedocs.io/en/latest/advanced-usage.html#ssl-warnings\n",
      "  warnings.warn(\n"
     ]
    },
    {
     "name": "stdout",
     "output_type": "stream",
     "text": [
      "getSubmittedSyntheses with ID request failed\n",
      "response.status_code: 400\n",
      "response.text: {\r\n",
      "  \"errors\": {\r\n",
      "    \"id\": [\r\n",
      "      \"The value '0' is not valid.\"\r\n",
      "    ]\r\n",
      "  },\r\n",
      "  \"type\": \"https://tools.ietf.org/html/rfc7231#section-6.5.1\",\r\n",
      "  \"title\": \"One or more validation errors occurred.\",\r\n",
      "  \"status\": 400,\r\n",
      "  \"extensions\": {\r\n",
      "    \"traceId\": \"00-161a9823890415ce99cd7dd46327f26f-e4f1329ea07e165d-00\"\r\n",
      "  }\r\n",
      "}\n",
      "None\n",
      "\r\n",
      "Checking status , id : 0\n"
     ]
    },
    {
     "name": "stderr",
     "output_type": "stream",
     "text": [
      "C:\\Users\\deepasaw\\Anaconda3\\lib\\site-packages\\urllib3\\connectionpool.py:1013: InsecureRequestWarning: Unverified HTTPS request is being made to host 'eastus.customvoice.api.speech.microsoft.com'. Adding certificate verification is strongly advised. See: https://urllib3.readthedocs.io/en/latest/advanced-usage.html#ssl-warnings\n",
      "  warnings.warn(\n"
     ]
    },
    {
     "name": "stdout",
     "output_type": "stream",
     "text": [
      "getSubmittedSyntheses with ID request failed\n",
      "response.status_code: 400\n",
      "response.text: {\r\n",
      "  \"errors\": {\r\n",
      "    \"id\": [\r\n",
      "      \"The value '0' is not valid.\"\r\n",
      "    ]\r\n",
      "  },\r\n",
      "  \"type\": \"https://tools.ietf.org/html/rfc7231#section-6.5.1\",\r\n",
      "  \"title\": \"One or more validation errors occurred.\",\r\n",
      "  \"status\": 400,\r\n",
      "  \"extensions\": {\r\n",
      "    \"traceId\": \"00-01b994639b55e27b70b46e6297b6aaec-d8912bf70d319b95-00\"\r\n",
      "  }\r\n",
      "}\n",
      "None\n",
      "\r\n",
      "Checking status , id : 0\n"
     ]
    },
    {
     "name": "stderr",
     "output_type": "stream",
     "text": [
      "C:\\Users\\deepasaw\\Anaconda3\\lib\\site-packages\\urllib3\\connectionpool.py:1013: InsecureRequestWarning: Unverified HTTPS request is being made to host 'eastus.customvoice.api.speech.microsoft.com'. Adding certificate verification is strongly advised. See: https://urllib3.readthedocs.io/en/latest/advanced-usage.html#ssl-warnings\n",
      "  warnings.warn(\n"
     ]
    },
    {
     "name": "stdout",
     "output_type": "stream",
     "text": [
      "getSubmittedSyntheses with ID request failed\n",
      "response.status_code: 400\n",
      "response.text: {\r\n",
      "  \"errors\": {\r\n",
      "    \"id\": [\r\n",
      "      \"The value '0' is not valid.\"\r\n",
      "    ]\r\n",
      "  },\r\n",
      "  \"type\": \"https://tools.ietf.org/html/rfc7231#section-6.5.1\",\r\n",
      "  \"title\": \"One or more validation errors occurred.\",\r\n",
      "  \"status\": 400,\r\n",
      "  \"extensions\": {\r\n",
      "    \"traceId\": \"00-e3036d91e5d1179f4cc8ffbef037fca8-fc9936621046a02d-00\"\r\n",
      "  }\r\n",
      "}\n",
      "None\n",
      "\r\n",
      "Checking status , id : 0\n"
     ]
    },
    {
     "name": "stderr",
     "output_type": "stream",
     "text": [
      "C:\\Users\\deepasaw\\Anaconda3\\lib\\site-packages\\urllib3\\connectionpool.py:1013: InsecureRequestWarning: Unverified HTTPS request is being made to host 'eastus.customvoice.api.speech.microsoft.com'. Adding certificate verification is strongly advised. See: https://urllib3.readthedocs.io/en/latest/advanced-usage.html#ssl-warnings\n",
      "  warnings.warn(\n"
     ]
    },
    {
     "name": "stdout",
     "output_type": "stream",
     "text": [
      "getSubmittedSyntheses with ID request failed\n",
      "response.status_code: 400\n",
      "response.text: {\r\n",
      "  \"errors\": {\r\n",
      "    \"id\": [\r\n",
      "      \"The value '0' is not valid.\"\r\n",
      "    ]\r\n",
      "  },\r\n",
      "  \"type\": \"https://tools.ietf.org/html/rfc7231#section-6.5.1\",\r\n",
      "  \"title\": \"One or more validation errors occurred.\",\r\n",
      "  \"status\": 400,\r\n",
      "  \"extensions\": {\r\n",
      "    \"traceId\": \"00-2baba39d0d7e2f8ff4b25e2812eb9df7-816405392202a728-00\"\r\n",
      "  }\r\n",
      "}\n",
      "None\n",
      "\r\n",
      "Checking status , id : 0\n"
     ]
    },
    {
     "name": "stderr",
     "output_type": "stream",
     "text": [
      "C:\\Users\\deepasaw\\Anaconda3\\lib\\site-packages\\urllib3\\connectionpool.py:1013: InsecureRequestWarning: Unverified HTTPS request is being made to host 'eastus.customvoice.api.speech.microsoft.com'. Adding certificate verification is strongly advised. See: https://urllib3.readthedocs.io/en/latest/advanced-usage.html#ssl-warnings\n",
      "  warnings.warn(\n"
     ]
    },
    {
     "name": "stdout",
     "output_type": "stream",
     "text": [
      "getSubmittedSyntheses with ID request failed\n",
      "response.status_code: 400\n",
      "response.text: {\r\n",
      "  \"errors\": {\r\n",
      "    \"id\": [\r\n",
      "      \"The value '0' is not valid.\"\r\n",
      "    ]\r\n",
      "  },\r\n",
      "  \"type\": \"https://tools.ietf.org/html/rfc7231#section-6.5.1\",\r\n",
      "  \"title\": \"One or more validation errors occurred.\",\r\n",
      "  \"status\": 400,\r\n",
      "  \"extensions\": {\r\n",
      "    \"traceId\": \"00-a2f2d21806141b671fa75e0ef3bf1746-41c561edbfe9161b-00\"\r\n",
      "  }\r\n",
      "}\n",
      "None\n",
      "\r\n",
      "Checking status , id : 0\n"
     ]
    },
    {
     "name": "stderr",
     "output_type": "stream",
     "text": [
      "C:\\Users\\deepasaw\\Anaconda3\\lib\\site-packages\\urllib3\\connectionpool.py:1013: InsecureRequestWarning: Unverified HTTPS request is being made to host 'eastus.customvoice.api.speech.microsoft.com'. Adding certificate verification is strongly advised. See: https://urllib3.readthedocs.io/en/latest/advanced-usage.html#ssl-warnings\n",
      "  warnings.warn(\n"
     ]
    },
    {
     "name": "stdout",
     "output_type": "stream",
     "text": [
      "getSubmittedSyntheses with ID request failed\n",
      "response.status_code: 400\n",
      "response.text: {\r\n",
      "  \"errors\": {\r\n",
      "    \"id\": [\r\n",
      "      \"The value '0' is not valid.\"\r\n",
      "    ]\r\n",
      "  },\r\n",
      "  \"type\": \"https://tools.ietf.org/html/rfc7231#section-6.5.1\",\r\n",
      "  \"title\": \"One or more validation errors occurred.\",\r\n",
      "  \"status\": 400,\r\n",
      "  \"extensions\": {\r\n",
      "    \"traceId\": \"00-3a5013b0a5eb9a84e779af028721079e-22a8a95a84e09bc9-00\"\r\n",
      "  }\r\n",
      "}\n",
      "None\n",
      "\r\n",
      "Checking status , id : 0\n"
     ]
    },
    {
     "name": "stderr",
     "output_type": "stream",
     "text": [
      "C:\\Users\\deepasaw\\Anaconda3\\lib\\site-packages\\urllib3\\connectionpool.py:1013: InsecureRequestWarning: Unverified HTTPS request is being made to host 'eastus.customvoice.api.speech.microsoft.com'. Adding certificate verification is strongly advised. See: https://urllib3.readthedocs.io/en/latest/advanced-usage.html#ssl-warnings\n",
      "  warnings.warn(\n"
     ]
    },
    {
     "name": "stdout",
     "output_type": "stream",
     "text": [
      "getSubmittedSyntheses with ID request failed\n",
      "response.status_code: 400\n",
      "response.text: {\r\n",
      "  \"errors\": {\r\n",
      "    \"id\": [\r\n",
      "      \"The value '0' is not valid.\"\r\n",
      "    ]\r\n",
      "  },\r\n",
      "  \"type\": \"https://tools.ietf.org/html/rfc7231#section-6.5.1\",\r\n",
      "  \"title\": \"One or more validation errors occurred.\",\r\n",
      "  \"status\": 400,\r\n",
      "  \"extensions\": {\r\n",
      "    \"traceId\": \"00-e2a4ee20b6fab5590f1df47799ce8157-0f1a87ae8e152c2e-00\"\r\n",
      "  }\r\n",
      "}\n",
      "None\n",
      "\r\n",
      "Checking status , id : 0\n"
     ]
    },
    {
     "name": "stderr",
     "output_type": "stream",
     "text": [
      "C:\\Users\\deepasaw\\Anaconda3\\lib\\site-packages\\urllib3\\connectionpool.py:1013: InsecureRequestWarning: Unverified HTTPS request is being made to host 'eastus.customvoice.api.speech.microsoft.com'. Adding certificate verification is strongly advised. See: https://urllib3.readthedocs.io/en/latest/advanced-usage.html#ssl-warnings\n",
      "  warnings.warn(\n"
     ]
    },
    {
     "name": "stdout",
     "output_type": "stream",
     "text": [
      "getSubmittedSyntheses with ID request failed\n",
      "response.status_code: 400\n",
      "response.text: {\r\n",
      "  \"errors\": {\r\n",
      "    \"id\": [\r\n",
      "      \"The value '0' is not valid.\"\r\n",
      "    ]\r\n",
      "  },\r\n",
      "  \"type\": \"https://tools.ietf.org/html/rfc7231#section-6.5.1\",\r\n",
      "  \"title\": \"One or more validation errors occurred.\",\r\n",
      "  \"status\": 400,\r\n",
      "  \"extensions\": {\r\n",
      "    \"traceId\": \"00-002ab76137d0794f8df5034814bb6830-d145c2f3cbe6d231-00\"\r\n",
      "  }\r\n",
      "}\n",
      "None\n",
      "\r\n",
      "Checking status , id : 0\n"
     ]
    },
    {
     "name": "stderr",
     "output_type": "stream",
     "text": [
      "C:\\Users\\deepasaw\\Anaconda3\\lib\\site-packages\\urllib3\\connectionpool.py:1013: InsecureRequestWarning: Unverified HTTPS request is being made to host 'eastus.customvoice.api.speech.microsoft.com'. Adding certificate verification is strongly advised. See: https://urllib3.readthedocs.io/en/latest/advanced-usage.html#ssl-warnings\n",
      "  warnings.warn(\n"
     ]
    },
    {
     "name": "stdout",
     "output_type": "stream",
     "text": [
      "getSubmittedSyntheses with ID request failed\n",
      "response.status_code: 400\n",
      "response.text: {\r\n",
      "  \"errors\": {\r\n",
      "    \"id\": [\r\n",
      "      \"The value '0' is not valid.\"\r\n",
      "    ]\r\n",
      "  },\r\n",
      "  \"type\": \"https://tools.ietf.org/html/rfc7231#section-6.5.1\",\r\n",
      "  \"title\": \"One or more validation errors occurred.\",\r\n",
      "  \"status\": 400,\r\n",
      "  \"extensions\": {\r\n",
      "    \"traceId\": \"00-e293998d832bd18ab51c8ca41e28c841-61bfb917c65280ac-00\"\r\n",
      "  }\r\n",
      "}\n",
      "None\n",
      "\r\n",
      "Checking status , id : 0\n"
     ]
    },
    {
     "name": "stderr",
     "output_type": "stream",
     "text": [
      "C:\\Users\\deepasaw\\Anaconda3\\lib\\site-packages\\urllib3\\connectionpool.py:1013: InsecureRequestWarning: Unverified HTTPS request is being made to host 'eastus.customvoice.api.speech.microsoft.com'. Adding certificate verification is strongly advised. See: https://urllib3.readthedocs.io/en/latest/advanced-usage.html#ssl-warnings\n",
      "  warnings.warn(\n"
     ]
    },
    {
     "name": "stdout",
     "output_type": "stream",
     "text": [
      "getSubmittedSyntheses with ID request failed\n",
      "response.status_code: 400\n",
      "response.text: {\r\n",
      "  \"errors\": {\r\n",
      "    \"id\": [\r\n",
      "      \"The value '0' is not valid.\"\r\n",
      "    ]\r\n",
      "  },\r\n",
      "  \"type\": \"https://tools.ietf.org/html/rfc7231#section-6.5.1\",\r\n",
      "  \"title\": \"One or more validation errors occurred.\",\r\n",
      "  \"status\": 400,\r\n",
      "  \"extensions\": {\r\n",
      "    \"traceId\": \"00-f4d03cbdf334e6097b04b3816b1981fa-8a7fcf85d3ad8d49-00\"\r\n",
      "  }\r\n",
      "}\n",
      "None\n",
      "\r\n",
      "Checking status , id : 0\n"
     ]
    },
    {
     "name": "stderr",
     "output_type": "stream",
     "text": [
      "C:\\Users\\deepasaw\\Anaconda3\\lib\\site-packages\\urllib3\\connectionpool.py:1013: InsecureRequestWarning: Unverified HTTPS request is being made to host 'eastus.customvoice.api.speech.microsoft.com'. Adding certificate verification is strongly advised. See: https://urllib3.readthedocs.io/en/latest/advanced-usage.html#ssl-warnings\n",
      "  warnings.warn(\n"
     ]
    },
    {
     "name": "stdout",
     "output_type": "stream",
     "text": [
      "getSubmittedSyntheses with ID request failed\n",
      "response.status_code: 400\n",
      "response.text: {\r\n",
      "  \"errors\": {\r\n",
      "    \"id\": [\r\n",
      "      \"The value '0' is not valid.\"\r\n",
      "    ]\r\n",
      "  },\r\n",
      "  \"type\": \"https://tools.ietf.org/html/rfc7231#section-6.5.1\",\r\n",
      "  \"title\": \"One or more validation errors occurred.\",\r\n",
      "  \"status\": 400,\r\n",
      "  \"extensions\": {\r\n",
      "    \"traceId\": \"00-5681bb4b824c78ad1993330c00abbf3b-cc4eac6c6bf4c682-00\"\r\n",
      "  }\r\n",
      "}\n",
      "None\n",
      "\r\n",
      "Checking status , id : 0\n"
     ]
    },
    {
     "name": "stderr",
     "output_type": "stream",
     "text": [
      "C:\\Users\\deepasaw\\Anaconda3\\lib\\site-packages\\urllib3\\connectionpool.py:1013: InsecureRequestWarning: Unverified HTTPS request is being made to host 'eastus.customvoice.api.speech.microsoft.com'. Adding certificate verification is strongly advised. See: https://urllib3.readthedocs.io/en/latest/advanced-usage.html#ssl-warnings\n",
      "  warnings.warn(\n"
     ]
    },
    {
     "name": "stdout",
     "output_type": "stream",
     "text": [
      "getSubmittedSyntheses with ID request failed\n",
      "response.status_code: 400\n",
      "response.text: {\r\n",
      "  \"errors\": {\r\n",
      "    \"id\": [\r\n",
      "      \"The value '0' is not valid.\"\r\n",
      "    ]\r\n",
      "  },\r\n",
      "  \"type\": \"https://tools.ietf.org/html/rfc7231#section-6.5.1\",\r\n",
      "  \"title\": \"One or more validation errors occurred.\",\r\n",
      "  \"status\": 400,\r\n",
      "  \"extensions\": {\r\n",
      "    \"traceId\": \"00-ae3179fa12edc4a47c0e632816815be5-b1aeae25697b5102-00\"\r\n",
      "  }\r\n",
      "}\n",
      "None\n",
      "\r\n",
      "Checking status , id : 0\n"
     ]
    },
    {
     "name": "stderr",
     "output_type": "stream",
     "text": [
      "C:\\Users\\deepasaw\\Anaconda3\\lib\\site-packages\\urllib3\\connectionpool.py:1013: InsecureRequestWarning: Unverified HTTPS request is being made to host 'eastus.customvoice.api.speech.microsoft.com'. Adding certificate verification is strongly advised. See: https://urllib3.readthedocs.io/en/latest/advanced-usage.html#ssl-warnings\n",
      "  warnings.warn(\n"
     ]
    },
    {
     "name": "stdout",
     "output_type": "stream",
     "text": [
      "getSubmittedSyntheses with ID request failed\n",
      "response.status_code: 400\n",
      "response.text: {\r\n",
      "  \"errors\": {\r\n",
      "    \"id\": [\r\n",
      "      \"The value '0' is not valid.\"\r\n",
      "    ]\r\n",
      "  },\r\n",
      "  \"type\": \"https://tools.ietf.org/html/rfc7231#section-6.5.1\",\r\n",
      "  \"title\": \"One or more validation errors occurred.\",\r\n",
      "  \"status\": 400,\r\n",
      "  \"extensions\": {\r\n",
      "    \"traceId\": \"00-0957f8ee23aad2fbd9a116e23ef3acbf-0b85ffb4012dc055-00\"\r\n",
      "  }\r\n",
      "}\n",
      "None\n",
      "\r\n",
      "Checking status , id : 0\n"
     ]
    },
    {
     "name": "stderr",
     "output_type": "stream",
     "text": [
      "C:\\Users\\deepasaw\\Anaconda3\\lib\\site-packages\\urllib3\\connectionpool.py:1013: InsecureRequestWarning: Unverified HTTPS request is being made to host 'eastus.customvoice.api.speech.microsoft.com'. Adding certificate verification is strongly advised. See: https://urllib3.readthedocs.io/en/latest/advanced-usage.html#ssl-warnings\n",
      "  warnings.warn(\n"
     ]
    },
    {
     "name": "stdout",
     "output_type": "stream",
     "text": [
      "getSubmittedSyntheses with ID request failed\n",
      "response.status_code: 400\n",
      "response.text: {\r\n",
      "  \"errors\": {\r\n",
      "    \"id\": [\r\n",
      "      \"The value '0' is not valid.\"\r\n",
      "    ]\r\n",
      "  },\r\n",
      "  \"type\": \"https://tools.ietf.org/html/rfc7231#section-6.5.1\",\r\n",
      "  \"title\": \"One or more validation errors occurred.\",\r\n",
      "  \"status\": 400,\r\n",
      "  \"extensions\": {\r\n",
      "    \"traceId\": \"00-dbdadd25f861acb2b190b8c39de43509-ee71832c49a27ba3-00\"\r\n",
      "  }\r\n",
      "}\n",
      "None\n",
      "\r\n",
      "Checking status , id : 0\n"
     ]
    },
    {
     "name": "stderr",
     "output_type": "stream",
     "text": [
      "C:\\Users\\deepasaw\\Anaconda3\\lib\\site-packages\\urllib3\\connectionpool.py:1013: InsecureRequestWarning: Unverified HTTPS request is being made to host 'eastus.customvoice.api.speech.microsoft.com'. Adding certificate verification is strongly advised. See: https://urllib3.readthedocs.io/en/latest/advanced-usage.html#ssl-warnings\n",
      "  warnings.warn(\n"
     ]
    },
    {
     "name": "stdout",
     "output_type": "stream",
     "text": [
      "getSubmittedSyntheses with ID request failed\n",
      "response.status_code: 400\n",
      "response.text: {\r\n",
      "  \"errors\": {\r\n",
      "    \"id\": [\r\n",
      "      \"The value '0' is not valid.\"\r\n",
      "    ]\r\n",
      "  },\r\n",
      "  \"type\": \"https://tools.ietf.org/html/rfc7231#section-6.5.1\",\r\n",
      "  \"title\": \"One or more validation errors occurred.\",\r\n",
      "  \"status\": 400,\r\n",
      "  \"extensions\": {\r\n",
      "    \"traceId\": \"00-d5675bab7d3ef406c6c5a483fa054b35-e32584285400101b-00\"\r\n",
      "  }\r\n",
      "}\n",
      "None\n",
      "\r\n",
      "Checking status , id : 0\n"
     ]
    },
    {
     "name": "stderr",
     "output_type": "stream",
     "text": [
      "C:\\Users\\deepasaw\\Anaconda3\\lib\\site-packages\\urllib3\\connectionpool.py:1013: InsecureRequestWarning: Unverified HTTPS request is being made to host 'eastus.customvoice.api.speech.microsoft.com'. Adding certificate verification is strongly advised. See: https://urllib3.readthedocs.io/en/latest/advanced-usage.html#ssl-warnings\n",
      "  warnings.warn(\n"
     ]
    },
    {
     "name": "stdout",
     "output_type": "stream",
     "text": [
      "getSubmittedSyntheses with ID request failed\n",
      "response.status_code: 400\n",
      "response.text: {\r\n",
      "  \"errors\": {\r\n",
      "    \"id\": [\r\n",
      "      \"The value '0' is not valid.\"\r\n",
      "    ]\r\n",
      "  },\r\n",
      "  \"type\": \"https://tools.ietf.org/html/rfc7231#section-6.5.1\",\r\n",
      "  \"title\": \"One or more validation errors occurred.\",\r\n",
      "  \"status\": 400,\r\n",
      "  \"extensions\": {\r\n",
      "    \"traceId\": \"00-b7073b19ad6d7be778a9b37912b7d41a-ba03fb0de399ae51-00\"\r\n",
      "  }\r\n",
      "}\n",
      "None\n",
      "\r\n",
      "Checking status , id : 0\n"
     ]
    },
    {
     "name": "stderr",
     "output_type": "stream",
     "text": [
      "C:\\Users\\deepasaw\\Anaconda3\\lib\\site-packages\\urllib3\\connectionpool.py:1013: InsecureRequestWarning: Unverified HTTPS request is being made to host 'eastus.customvoice.api.speech.microsoft.com'. Adding certificate verification is strongly advised. See: https://urllib3.readthedocs.io/en/latest/advanced-usage.html#ssl-warnings\n",
      "  warnings.warn(\n"
     ]
    },
    {
     "name": "stdout",
     "output_type": "stream",
     "text": [
      "getSubmittedSyntheses with ID request failed\n",
      "response.status_code: 400\n",
      "response.text: {\r\n",
      "  \"errors\": {\r\n",
      "    \"id\": [\r\n",
      "      \"The value '0' is not valid.\"\r\n",
      "    ]\r\n",
      "  },\r\n",
      "  \"type\": \"https://tools.ietf.org/html/rfc7231#section-6.5.1\",\r\n",
      "  \"title\": \"One or more validation errors occurred.\",\r\n",
      "  \"status\": 400,\r\n",
      "  \"extensions\": {\r\n",
      "    \"traceId\": \"00-31abf7b6dfea9779b80d1a6880f661e7-8174435ad481f8a0-00\"\r\n",
      "  }\r\n",
      "}\n",
      "None\n",
      "\r\n",
      "Checking status , id : 0\n"
     ]
    },
    {
     "name": "stderr",
     "output_type": "stream",
     "text": [
      "C:\\Users\\deepasaw\\Anaconda3\\lib\\site-packages\\urllib3\\connectionpool.py:1013: InsecureRequestWarning: Unverified HTTPS request is being made to host 'eastus.customvoice.api.speech.microsoft.com'. Adding certificate verification is strongly advised. See: https://urllib3.readthedocs.io/en/latest/advanced-usage.html#ssl-warnings\n",
      "  warnings.warn(\n"
     ]
    },
    {
     "name": "stdout",
     "output_type": "stream",
     "text": [
      "getSubmittedSyntheses with ID request failed\n",
      "response.status_code: 400\n",
      "response.text: {\r\n",
      "  \"errors\": {\r\n",
      "    \"id\": [\r\n",
      "      \"The value '0' is not valid.\"\r\n",
      "    ]\r\n",
      "  },\r\n",
      "  \"type\": \"https://tools.ietf.org/html/rfc7231#section-6.5.1\",\r\n",
      "  \"title\": \"One or more validation errors occurred.\",\r\n",
      "  \"status\": 400,\r\n",
      "  \"extensions\": {\r\n",
      "    \"traceId\": \"00-6a0cbeccc5c06bd7ca84bc4d5459b591-da510a92614ef2f6-00\"\r\n",
      "  }\r\n",
      "}\n",
      "None\n",
      "\r\n",
      "Checking status , id : 0\n"
     ]
    },
    {
     "name": "stderr",
     "output_type": "stream",
     "text": [
      "C:\\Users\\deepasaw\\Anaconda3\\lib\\site-packages\\urllib3\\connectionpool.py:1013: InsecureRequestWarning: Unverified HTTPS request is being made to host 'eastus.customvoice.api.speech.microsoft.com'. Adding certificate verification is strongly advised. See: https://urllib3.readthedocs.io/en/latest/advanced-usage.html#ssl-warnings\n",
      "  warnings.warn(\n"
     ]
    },
    {
     "name": "stdout",
     "output_type": "stream",
     "text": [
      "getSubmittedSyntheses with ID request failed\n",
      "response.status_code: 400\n",
      "response.text: {\r\n",
      "  \"errors\": {\r\n",
      "    \"id\": [\r\n",
      "      \"The value '0' is not valid.\"\r\n",
      "    ]\r\n",
      "  },\r\n",
      "  \"type\": \"https://tools.ietf.org/html/rfc7231#section-6.5.1\",\r\n",
      "  \"title\": \"One or more validation errors occurred.\",\r\n",
      "  \"status\": 400,\r\n",
      "  \"extensions\": {\r\n",
      "    \"traceId\": \"00-1d22e6da4c75b632cccae048d86e1348-a5a5fbf367cdf039-00\"\r\n",
      "  }\r\n",
      "}\n",
      "None\n",
      "\r\n",
      "Checking status , id : 0\n"
     ]
    },
    {
     "name": "stderr",
     "output_type": "stream",
     "text": [
      "C:\\Users\\deepasaw\\Anaconda3\\lib\\site-packages\\urllib3\\connectionpool.py:1013: InsecureRequestWarning: Unverified HTTPS request is being made to host 'eastus.customvoice.api.speech.microsoft.com'. Adding certificate verification is strongly advised. See: https://urllib3.readthedocs.io/en/latest/advanced-usage.html#ssl-warnings\n",
      "  warnings.warn(\n"
     ]
    },
    {
     "name": "stdout",
     "output_type": "stream",
     "text": [
      "getSubmittedSyntheses with ID request failed\n",
      "response.status_code: 400\n",
      "response.text: {\r\n",
      "  \"errors\": {\r\n",
      "    \"id\": [\r\n",
      "      \"The value '0' is not valid.\"\r\n",
      "    ]\r\n",
      "  },\r\n",
      "  \"type\": \"https://tools.ietf.org/html/rfc7231#section-6.5.1\",\r\n",
      "  \"title\": \"One or more validation errors occurred.\",\r\n",
      "  \"status\": 400,\r\n",
      "  \"extensions\": {\r\n",
      "    \"traceId\": \"00-f550fdd991f821865d304b058a273284-34d7c7a637326ac7-00\"\r\n",
      "  }\r\n",
      "}\n",
      "None\n",
      "\r\n",
      "Checking status , id : 0\n"
     ]
    },
    {
     "name": "stderr",
     "output_type": "stream",
     "text": [
      "C:\\Users\\deepasaw\\Anaconda3\\lib\\site-packages\\urllib3\\connectionpool.py:1013: InsecureRequestWarning: Unverified HTTPS request is being made to host 'eastus.customvoice.api.speech.microsoft.com'. Adding certificate verification is strongly advised. See: https://urllib3.readthedocs.io/en/latest/advanced-usage.html#ssl-warnings\n",
      "  warnings.warn(\n"
     ]
    }
   ],
   "source": [
    "import argparse\n",
    "import json\n",
    "import ntpath\n",
    "import urllib3\n",
    "import requests\n",
    "import time\n",
    "from json import dumps, loads, JSONEncoder, JSONDecoder\n",
    "import pickle\n",
    "def getSubmittedSyntheses(baseAddress,key,timestart=None,timeend=None,skip=None,status=None,top=None):\n",
    "    url = baseAddress+\"voicesynthesis/Paginated?\"#url = url + \"&skip=0\"\n",
    "    if top is not None:\n",
    "        url = url + \"&top=\" + str(top)\n",
    "    else:\n",
    "        url = url + \"&top=100\"\n",
    "    url.replace(\" \", \"%20\")\n",
    "    response=requests.get(url, headers={\"Ocp-Apim-Subscription-Key\":key}, verify=False)\n",
    "    if response.status_code == 200:\n",
    "        syntheses = json.loads(response.text)[\"values\"]\n",
    "        return syntheses\n",
    "    else:\n",
    "        print(\"getSubmittedSyntheses request failed\")\n",
    "        print(\"response.status_code: %d\" % response.status_code)\n",
    "        print(\"response.text: %s\" % response.text)\n",
    "        return None\n",
    "def getSubmittedSynthesis(baseAddress,id,key):\n",
    "    response=requests.get(baseAddress+\"voicesynthesis/\"+str(id), headers={\"Ocp-Apim-Subscription-Key\":key}, verify=False)\n",
    "    if response.status_code == 200:\n",
    "        synthesis = json.loads(response.text)\n",
    "        return synthesis\n",
    "    else:\n",
    "        print(\"getSubmittedSyntheses with ID request failed\")\n",
    "        print(\"response.status_code: %d\" % response.status_code)\n",
    "        print(\"response.text: %s\" % response.text)\n",
    "        return None\n",
    "def getVoices(baseAddress,key):\n",
    "    response=requests.get(baseAddress+\"voicesynthesis/voices\", headers={\"Ocp-Apim-Subscription-Key\":key}, verify=False)\n",
    "    if response.status_code == 200:\n",
    "        voices = json.loads(response.text)\n",
    "        return voices\n",
    "    else:\n",
    "        print(\"getVoices request failed\")\n",
    "        print(\"response.status_code: %d\" % response.status_code)\n",
    "        print(\"response.text: %s\" % response.text)\n",
    "        return None\n",
    "def deleteSynthesis(baseAddress,key,ids):\n",
    "    for id in ids:\n",
    "        print(\"delete voice synthesis %s \" % id)\n",
    "        response = requests.delete(baseAddress+\"voicesynthesis/\"+id, headers={\"Ocp-Apim-Subscription-Key\":key}, verify=False)\n",
    "        if (response.status_code == 204):\n",
    "            print(\"delete successful\")\n",
    "        else:\n",
    "            print(\"delete failed, response.status_code: %d, response.text: %s \" % (response.status_code, response.text))\n",
    "def submitSynthesis(baseAddress,file,locale,formatoffile,voiceId,key):\n",
    "    modelList = voiceId\n",
    "    data={'name': 'simple test', 'description': 'desc...', 'models': json.dumps(modelList), 'locale':locale, 'outputformat':formatoffile}\n",
    "    properties={'ConcatenateResult': 'true'}\n",
    "    data['properties'] = json.dumps(properties)\n",
    "    if file is not None:\n",
    "        scriptfilename=ntpath.basename(file)\n",
    "        files = {'script': (scriptfilename, open(file, 'rb'), 'text/plain')}\n",
    "    response = requests.post(baseAddress+\"voicesynthesis\", data, headers={\"Ocp-Apim-Subscription-Key\":key}, files=files, verify=False)\n",
    "    if response.status_code == 202:\n",
    "        location = response.headers['Location']\n",
    "        id = location.split(\"/\")[-1]\n",
    "        print(\"Submit synthesis request successful , id: %s\" % (id))\n",
    "        return id\n",
    "    else:\n",
    "        print(\"Submit synthesis request failed\")\n",
    "        print(\"response.status_code: %d\" % response.status_code)\n",
    "        print(\"response.text: %s\" % response.text)\n",
    "        return 0\n",
    "    \n",
    "def texttospeech(region,file,locale,formatoffile,voiceId,key):\n",
    "    baseAddress='https://%s.customvoice.api.speech.microsoft.com/api/texttospeech/v3.0-beta1/' % region\n",
    "    id = submitSynthesis(baseAddress,file,locale,formatoffile,voiceId,key)\n",
    "    if (id == 0):\n",
    "        exit(1)\n",
    "\n",
    "    while(1):\n",
    "        print(\"\\r\\nChecking status , id : %s\" % id)\n",
    "        synthesis=getSubmittedSynthesis(baseAddress,id,key)\n",
    "        print(synthesis)\n",
    "        if synthesis['status'] == \"Succeeded\":\n",
    "            r = requests.get(synthesis['resultsUrl'])\n",
    "            filename=id + \".zip\"\n",
    "            with open(filename, 'wb') as f:  \n",
    "                f.write(r.content)\n",
    "                print(\"Succeeded... Result file downloaded : \" + filename)\n",
    "            break\n",
    "        elif synthesis['status'] == \"Failed\":\n",
    "            print(\"Failed...\")\n",
    "            break\n",
    "        elif synthesis['status'] == \"Running\":\n",
    "            print(\"Running...\")\n",
    "        elif synthesis['status'] == \"NotStarted\":\n",
    "            print(\"NotStarted...\")\n",
    "        time.sleep(10)\n",
    "texttospeech('eastus','book1.txt','locale','riff-16khz-16bit-mono-pcm','e7834095-df83-adc0-b474-096d03742934','ce7a6b0880204a0995b899571043dcef')\n",
    "#submit_synthesis('centralindia','c71b77f5138e4e688447e4b48a3939e6',\n",
    "#                 'https://centralindia.api.cognitive.microsoft.com/sts/v1.0/issuetoken/api/texttospeech/v3.0/longaudiosynthesis','book1.txt','en-GB')\n"
   ]
  },
  {
   "cell_type": "code",
   "execution_count": 24,
   "id": "0f3d0c58",
   "metadata": {},
   "outputs": [
    {
     "name": "stdout",
     "output_type": "stream",
     "text": [
      "Wall time: 0 ns\n",
      "Submit synthesis request successful , id: c684c3ee-cfd3-4f1c-982c-78b4d26adcc3Wall time: 0 ns\n",
      "\n",
      "\n",
      "Checking status , id : c684c3ee-cfd3-4f1c-982c-78b4d26adcc3\n",
      "NotStarted...\n",
      "\n",
      "\n",
      "Checking status , id : c684c3ee-cfd3-4f1c-982c-78b4d26adcc3\n",
      "NotStarted...\n",
      "\n",
      "\n",
      "Checking status , id : c684c3ee-cfd3-4f1c-982c-78b4d26adcc3\n",
      "Running...\n",
      "\n",
      "\n",
      "Checking status , id : c684c3ee-cfd3-4f1c-982c-78b4d26adcc3\n",
      "Succeeded... Result file downloaded : c684c3ee-cfd3-4f1c-982c-78b4d26adcc3.zip\n",
      "\n"
     ]
    }
   ],
   "source": [
    "%time\n",
    "!py texttospeech.py --submit -key ce7a6b0880204a0995b899571043dcef -region eastus -file book1.txt -locale en-GB -voiceId 71fda4cf-97ec-4e19-8fa5-7310d16115cb --concatenateResult\n",
    "%time"
   ]
  },
  {
   "cell_type": "code",
   "execution_count": 22,
   "id": "5078ee37",
   "metadata": {},
   "outputs": [
    {
     "name": "stdout",
     "output_type": "stream",
     "text": [
      "Wall time: 2.83 ms\n",
      "Wall time: 0 ns\n"
     ]
    }
   ],
   "source": [
    "%time\n",
    "a=1+2\n",
    "%time"
   ]
  },
  {
   "cell_type": "code",
   "execution_count": 18,
   "id": "21848f12",
   "metadata": {
    "scrolled": false
   },
   "outputs": [
    {
     "name": "stdout",
     "output_type": "stream",
     "text": [
      "There are 28 voices available:\n",
      "Name: ko-KR-SunHiNeural, Description: {\"Version\":\"20211130133950\"}, Id: 4fbf524b-183a-431f-8e56-0e9498afe7c9, Locale: ko-KR, Gender: Female, PublicVoice: True, Created: 2021-11-30T15:12:34.717Z\n",
      "Name: de-DE-KatjaNeural, Description: {\"Version\":\"20211130133950\"}, Id: 882e855a-e78f-426d-ab3f-19414bceee9f, Locale: de-DE, Gender: Female, PublicVoice: True, Created: 2021-11-30T13:48:10.387Z\n",
      "Name: zh-CN-XiaoyouNeural, Description: {\"Version\":\"20211130133950\"}, Id: 1cdf51d8-8291-458c-a21d-1d00e38bfe3f, Locale: zh-CN, Gender: Male, PublicVoice: True, Created: 2021-11-30T16:55:21.760Z\n",
      "Name: zh-CN-XiaoxiaoNeural, Description: {\"Version\":\"20211130133950\"}, Id: 94c36c41-adcf-4f71-9e55-23705dbfd449, Locale: zh-CN, Gender: Female, PublicVoice: True, Created: 2021-11-30T16:28:33.147Z\n",
      "Name: ja-JP-KeitaNeural, Description: {\"Version\":\"20211130133950\"}, Id: ec678873-f38f-41c5-9d41-339078c29c89, Locale: ja-JP, Gender: Male, PublicVoice: True, Created: 2021-11-30T15:01:53.090Z\n",
      "Name: zh-CN-YunyangNeural, Description: {\"Version\":\"20211130133950\"}, Id: 065b245a-fa92-4ca5-97e4-3647e4a87b02, Locale: zh-CN, Gender: Male, PublicVoice: True, Created: 2021-11-30T17:15:01.890Z\n",
      "Name: nb-NO-IselinNeural, Description: {\"Version\":\"20211130133950\"}, Id: cf2314fc-a268-41e6-b2f4-38e125aee5ef, Locale: nb-NO, Gender: Female, PublicVoice: True, Created: 2021-11-30T15:17:22.297Z\n",
      "Name: en-GB-LibbyNeural, Description: {\"Version\":\"20211130133950\"}, Id: 9f526f05-3385-48e0-b6d2-53c5c79cfd58, Locale: en-GB, Gender: Female, PublicVoice: True, Created: 2021-11-30T14:06:16.327Z\n",
      "Name: pt-BR-FranciscaNeural, Description: {\"Version\":\"20211130133950\"}, Id: 69ac5f52-a861-463a-b2c1-58f02ed04d48, Locale: pt-BR, Gender: Female, PublicVoice: True, Created: 2021-11-30T15:25:15.613Z\n",
      "Name: es-ES-ElviraNeural, Description: {\"Version\":\"20211130133950\"}, Id: 3373f348-25ab-437f-88ef-59dc7b479781, Locale: es-ES, Gender: Female, PublicVoice: True, Created: 2021-11-30T14:33:41.437Z\n",
      "Name: en-US-JennyNeural, Description: {\"Version\":\"20211216015304\"}, Id: 141f613d-28f0-4ca2-af2b-6730d1e5b05e, Locale: en-US, Gender: Female, PublicVoice: True, Created: 2021-12-16T02:00:42.337Z\n",
      "Name: en-GB-MiaNeural, Description: {\"Version\":\"20211130133950\"}, Id: 71fda4cf-97ec-4e19-8fa5-7310d16115cb, Locale: en-GB, Gender: Female, PublicVoice: True, Created: 2021-11-30T14:08:53.023Z\n",
      "Name: tr-TR-EmelNeural, Description: {\"Version\":\"20211130133950\"}, Id: 0d791d2d-b5c4-43b2-84e6-74e8a6da4a7b, Locale: tr-TR, Gender: Female, PublicVoice: True, Created: 2021-11-30T15:28:02.677Z\n",
      "Name: en-US-GuyNeural, Description: {\"Version\":\"20211130133950\"}, Id: eaa18c79-6bad-420b-8f87-76acc13037ab, Locale: en-US, Gender: Male, PublicVoice: True, Created: 2021-11-30T14:23:35.213Z\n",
      "Name: zh-CN-YunxiNeural, Description: {\"Version\":\"20211130133950\"}, Id: 4050de74-b5d3-46a2-94a7-7932b680d58e, Locale: zh-CN, Gender: Male, PublicVoice: True, Created: 2021-11-30T17:07:25.803Z\n",
      "Name: zh-CN-XiaohanNeural, Description: {\"Version\":\"20211130133950\"}, Id: 7ec6b389-f531-437b-8fde-7de74f24cacb, Locale: zh-CN, Gender: Female, PublicVoice: True, Created: 2021-11-30T15:42:47.687Z\n",
      "Name: es-MX-DaliaNeural, Description: {\"Version\":\"20211130133950\"}, Id: 51bacc76-8d61-4add-8bad-80284cea641a, Locale: es-MX, Gender: Female, PublicVoice: True, Created: 2021-11-30T14:40:38.567Z\n",
      "Name: fr-CA-SylvieNeural, Description: {\"Version\":\"20211130133950\"}, Id: 41fa11ff-2aa7-45b6-bb10-85abaa760801, Locale: fr-CA, Gender: Female, PublicVoice: True, Created: 2021-11-30T14:46:00.367Z\n",
      "Name: ja-JP-NanamiNeural, Description: {\"Version\":\"20211130133950\"}, Id: 2433cd1d-173c-4101-b5ce-8af747c1d88c, Locale: ja-JP, Gender: Female, PublicVoice: True, Created: 2021-11-30T15:09:14.530Z\n",
      "Name: zh-CN-YunyeNeural, Description: {\"Version\":\"20211130133950\"}, Id: dca361f5-5014-4326-af3e-8b756e41e1a5, Locale: zh-CN, Gender: Male, PublicVoice: True, Created: 2021-11-30T17:32:01.583Z\n",
      "Name: en-US-AriaNeural, Description: {\"Version\":\"20211130133950\"}, Id: 6df66514-4ab2-4d3a-870c-a4018d1f2eb1, Locale: en-US, Gender: Female, PublicVoice: True, Created: 2021-11-30T14:14:57.413Z\n",
      "Name: it-IT-ElsaNeural, Description: {\"Version\":\"20211130133950\"}, Id: e31a4814-c3fb-4f0c-b18a-a4d1c6e5cf82, Locale: it-IT, Gender: Female, PublicVoice: True, Created: 2021-11-30T14:57:52.973Z\n",
      "Name: en-CA-ClaraNeural, Description: {\"Version\":\"20211130133950\"}, Id: bc44e7fe-e198-42f2-b5d8-b6f078c73194, Locale: en-CA, Gender: Female, PublicVoice: True, Created: 2021-11-30T13:59:52.763Z\n",
      "Name: fr-FR-DeniseNeural, Description: {\"Version\":\"20211130133950\"}, Id: 8fed5395-4355-4aa5-80cf-ca2dff522359, Locale: fr-FR, Gender: Female, PublicVoice: True, Created: 2021-11-30T14:52:13.040Z\n",
      "Name: zh-CN-XiaoruiNeural, Description: {\"Version\":\"20211130133950\"}, Id: 4cefa0f6-6bbc-49b7-a0ac-cfe0edd5e414, Locale: zh-CN, Gender: Female, PublicVoice: True, Created: 2021-11-30T16:12:39.240Z\n",
      "Name: en-AU-NatashaNeural, Description: {\"Version\":\"20211130133950\"}, Id: e9237bba-dbdc-4fb1-b5dd-da6e9e9b6a1c, Locale: en-AU, Gender: Female, PublicVoice: True, Created: 2021-11-30T13:47:30.547Z\n",
      "Name: zh-CN-XiaoxuanNeural, Description: {\"Version\":\"20211130133950\"}, Id: 1ffb27f0-a3cf-4af4-bb3c-e40919e60a42, Locale: zh-CN, Gender: Female, PublicVoice: True, Created: 2021-11-30T16:40:34.083Z\n",
      "Name: zh-CN-XiaomoNeural, Description: {\"Version\":\"20211130133950\"}, Id: e6ebf901-95e8-4652-acba-f6416ecb17c4, Locale: zh-CN, Gender: Female, PublicVoice: True, Created: 2021-11-30T15:54:38.007Z\n"
     ]
    },
    {
     "name": "stderr",
     "output_type": "stream",
     "text": [
      "Traceback (most recent call last):\n",
      "  File \"C:\\Users\\deepasaw\\Desktop\\IDEAS\\TexttoSpeech\\speechtotext.py\", line 143, in <module>\n",
      "    id = submitSynthesis()\n",
      "  File \"C:\\Users\\deepasaw\\Desktop\\IDEAS\\TexttoSpeech\\speechtotext.py\", line 104, in submitSynthesis\n",
      "    response = requests.post(baseAddress+\"voicesynthesis\", data, headers={\"Ocp-Apim-Subscription-Key\":args.key}, files=files, verify=False)\n",
      "UnboundLocalError: local variable 'files' referenced before assignment\n"
     ]
    }
   ],
   "source": [
    "!py speechtotext.py --submit -key ce7a6b0880204a0995b899571043dcef -region eastus  -locale en-GB --voices "
   ]
  },
  {
   "cell_type": "code",
   "execution_count": 12,
   "id": "a9c152e7",
   "metadata": {},
   "outputs": [
    {
     "name": "stdout",
     "output_type": "stream",
     "text": [
      "Submit synthesis request failed\n",
      "response.status_code: 400\n",
      "response.text: {\n",
      "\n",
      "  \"code\": \"InvalidRequest\",\n",
      "\n",
      "  \"message\": \"The voice synthesis definition has the wrong format.\",\n",
      "\n",
      "  \"innerError\": {\n",
      "\n",
      "    \"code\": \"InvalidPayload\",\n",
      "\n",
      "    \"message\": \"The voice synthesis definition has the wrong format.\"\n",
      "\n",
      "  }\n",
      "\n",
      "}\n"
     ]
    }
   ],
   "source": [
    "!py speechtotext.py --submit -key ce7a6b0880204a0995b899571043dcef -region eastus -file book1.txt -locale en-GB --concatenateResult\n",
    "#-voiceId e7834095-df83-adc0-b474-096d03742934 "
   ]
  },
  {
   "cell_type": "code",
   "execution_count": 21,
   "id": "340cf894",
   "metadata": {},
   "outputs": [
    {
     "name": "stdout",
     "output_type": "stream",
     "text": [
      "response.status_code: 202\n",
      "https://eastus.customvoice.api.speech.microsoft.com/api/texttospeech/v3.0/longaudiosynthesis/fb60f507-7400-47cd-b75a-dd0b3794bb6d\n"
     ]
    }
   ],
   "source": [
    "import argparse\n",
    "import json\n",
    "import ntpath\n",
    "import urllib3\n",
    "import requests\n",
    "import time\n",
    "from json import dumps, loads, JSONEncoder, JSONDecoder\n",
    "import pickle\n",
    "#!py speechtotext.py --submit -key ce7a6b0880204a0995b899571043dcef -region eastus -file book1.txt \n",
    "#-locale en-GB -voiceId 71fda4cf-97ec-4e19-8fa5-7310d16115cb --concatenateResult\n",
    "def submit_synthesis():\n",
    "    region = 'eastus'\n",
    "    key = 'ce7a6b0880204a0995b899571043dcef'\n",
    "    input_file_path = 'test.txt'\n",
    "    locale = 'en-US'\n",
    "    url = 'https://{}.customvoice.api.speech.microsoft.com/api/texttospeech/v3.0/longaudiosynthesis'.format(region)\n",
    "    header = {\n",
    "        'Ocp-Apim-Subscription-Key': key\n",
    "    }\n",
    "\n",
    "    voice_identities = [\n",
    "        {\n",
    "            'voicename': 'en-US-GuyNeural'\n",
    "        }\n",
    "    ]\n",
    "\n",
    "    payload = {\n",
    "        'displayname': 'long audio synthesis sample',\n",
    "        'description': 'sample description',\n",
    "        'locale': locale,\n",
    "        'voices': json.dumps(voice_identities),\n",
    "        'outputformat': 'riff-16khz-16bit-mono-pcm',\n",
    "        'concatenateresult': True,\n",
    "    }\n",
    "\n",
    "    filename = ntpath.basename(input_file_path)\n",
    "    files = {\n",
    "        'script': (filename, open(input_file_path, 'rb'), 'text/plain')\n",
    "    }\n",
    "\n",
    "    response = requests.post(url, payload, headers=header, files=files)\n",
    "    print('response.status_code: %d' % response.status_code)\n",
    "    print(response.headers['Location'])\n",
    "\n",
    "submit_synthesis()"
   ]
  },
  {
   "cell_type": "code",
   "execution_count": null,
   "id": "0c5a65f0",
   "metadata": {},
   "outputs": [],
   "source": []
  }
 ],
 "metadata": {
  "kernelspec": {
   "display_name": "Python 3",
   "language": "python",
   "name": "python3"
  },
  "language_info": {
   "codemirror_mode": {
    "name": "ipython",
    "version": 3
   },
   "file_extension": ".py",
   "mimetype": "text/x-python",
   "name": "python",
   "nbconvert_exporter": "python",
   "pygments_lexer": "ipython3",
   "version": "3.9.4"
  }
 },
 "nbformat": 4,
 "nbformat_minor": 5
}
