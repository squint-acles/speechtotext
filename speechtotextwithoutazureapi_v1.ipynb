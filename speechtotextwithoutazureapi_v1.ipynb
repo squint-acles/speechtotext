{
 "cells": [
  {
   "cell_type": "code",
   "execution_count": null,
   "id": "9fc887f0",
   "metadata": {},
   "outputs": [],
   "source": [
    "import pyttsx3\n",
    "def readtext(filename):\n",
    "    engine = pyttsx3.init()\n",
    "    engine.setProperty('voice', 'HKEY_LOCAL_MACHINE\\SOFTWARE\\Microsoft\\Speech\\Voices\\Tokens\\TTS_MS_EN-US_ZIRA_11.0')\n",
    "    with open(filename) as f:\n",
    "        contents = f.read()\n",
    "        filenamemp=filename.strip('.txt')+'.mp3'\n",
    "        engine.save_to_file(f.read(),filenamemp)\n",
    "        engine.runAndWait()\n",
    "    engine.runAndWait()\n",
    "readtext(filename)"
   ]
  }
 ],
 "metadata": {
  "kernelspec": {
   "display_name": "Python 3",
   "language": "python",
   "name": "python3"
  },
  "language_info": {
   "codemirror_mode": {
    "name": "ipython",
    "version": 3
   },
   "file_extension": ".py",
   "mimetype": "text/x-python",
   "name": "python",
   "nbconvert_exporter": "python",
   "pygments_lexer": "ipython3",
   "version": "3.9.4"
  }
 },
 "nbformat": 4,
 "nbformat_minor": 5
}
